{
  "nbformat": 4,
  "nbformat_minor": 0,
  "metadata": {
    "colab": {
      "provenance": [],
      "gpuType": "T4",
      "authorship_tag": "ABX9TyNIcjwoiNLGSbI6qr8SDAzT",
      "include_colab_link": true
    },
    "kernelspec": {
      "name": "python3",
      "display_name": "Python 3"
    },
    "language_info": {
      "name": "python"
    },
    "accelerator": "GPU"
  },
  "cells": [
    {
      "cell_type": "markdown",
      "metadata": {
        "id": "view-in-github",
        "colab_type": "text"
      },
      "source": [
        "<a href=\"https://colab.research.google.com/github/kennycaiguo/LearnPytorchWithColab/blob/main/torch_tutorial_lesson1.ipynb\" target=\"_parent\"><img src=\"https://colab.research.google.com/assets/colab-badge.svg\" alt=\"Open In Colab\"/></a>"
      ]
    },
    {
      "cell_type": "code",
      "execution_count": 1,
      "metadata": {
        "colab": {
          "base_uri": "https://localhost:8080/"
        },
        "id": "16IXUb4NLIvw",
        "outputId": "f5f22231-ad2c-45c9-8418-31de90ead421"
      },
      "outputs": [
        {
          "output_type": "stream",
          "name": "stdout",
          "text": [
            "tensor([0, 1, 2, 3])\n",
            "tensor([False,  True,  True,  True])\n",
            "tensor([0, 1, 2, 3], dtype=torch.int16)\n",
            "tensor([0, 1, 2, 3], dtype=torch.int32)\n",
            "tensor([0, 1, 2, 3])\n",
            "tensor([0., 1., 2., 3.], dtype=torch.float16)\n",
            "tensor([0., 1., 2., 3.])\n",
            "tensor([0., 1., 2., 3.], dtype=torch.float64)\n"
          ]
        }
      ],
      "source": [
        "import torch\n",
        "\n",
        "mydevice = torch.device('cuda' if torch.cuda.is_available() else 'cpu')\n",
        "mytensor = torch.tensor([[1,2,3],[4,5,6]],dtype=torch.float32,device=mydevice,requires_grad=True) #创建tensor的时候可以指定使用cuda还是普通cpu建议使用cuda\n",
        "\n",
        "# print(mytensor)\n",
        "# print(mytensor.dtype)\n",
        "# print(mytensor.device)\n",
        "# print(mytensor.shape)\n",
        "# print(mytensor.requires_grad)\n",
        "\n",
        "# 可以创建一个空的tensor对象\n",
        "# empty_tensor = torch.tensor([]) # 创建空对象方法1\n",
        "# empty_tensor = torch.empty(size=(3,3)) # 创建空对象方法2\n",
        "# print(empty_tensor.shape)\n",
        "# print(empty_tensor.size())\n",
        "\n",
        "# 可以创建全部都是0的tensor对象\n",
        "# zero_tensor = torch.zeros(3,3)\n",
        "# print(zero_tensor)\n",
        "# print(zero_tensor.shape)\n",
        "\n",
        "# 可以创建全部都是1的tensor对象\n",
        "# one_tensor = torch.ones(2,5)\n",
        "# print(one_tensor)\n",
        "# print(one_tensor.shape)\n",
        "\n",
        "# 可以创建对角线是1,其他位置是0的tensor对象\n",
        "# eye_tensor = torch.eye(5,5)\n",
        "# print(eye_tensor)\n",
        "# print(eye_tensor.shape)\n",
        "\n",
        "# 可以用0-1的随机数来创建tensor对象\n",
        "# rnd_tensor = torch.rand(2,3)\n",
        "# print(rnd_tensor)\n",
        "# print(rnd_tensor.shape)\n",
        "\n",
        "# 还可以使用arange函数来创建\n",
        "# a_tensor = torch.arange(start=0,end=5,step=1)\n",
        "# print(a_tensor)\n",
        "# print(a_tensor.shape)\n",
        "\n",
        "# 还可以使用linspace函数来创建tensor\n",
        "# l_tensor = torch.linspace(start=0.1,end=1,steps=10)\n",
        "# print(l_tensor)\n",
        "# print(l_tensor.shape)\n",
        "\n",
        "# tensor转化为其他数据类型\n",
        "tensor1 = torch.arange(4)\n",
        "print(tensor1)\n",
        "print(tensor1.bool()) # 转化为布尔类型\n",
        "print(tensor1.short()) # 转化为短整型\n",
        "print(tensor1.int()) # 转化为整型\n",
        "print(tensor1.long()) # 转化为长整型\n",
        "\n",
        "print(tensor1.half()) # 转化为半精度浮点型 float16\n",
        "print(tensor1.float()) # 转化为单精度浮点型 float32\n",
        "print(tensor1.double()) # 转化为双精度浮点型 float64s"
      ]
    },
    {
      "cell_type": "code",
      "source": [
        "# ndarray=>tensor以及tensor->ndarray\n",
        "import numpy as np\n",
        "arr = np.zeros((5,5))\n",
        "#ndarray=>tensor\n",
        "tensor = torch.from_numpy(arr)\n",
        "print(tensor)\n",
        "print(type(tensor))\n",
        "\n",
        "#tensor->ndarray\n",
        "arr2 = tensor.numpy()\n",
        "print(arr2)\n",
        "print(type(arr2))"
      ],
      "metadata": {
        "colab": {
          "base_uri": "https://localhost:8080/"
        },
        "id": "oFvEs8zRcKDn",
        "outputId": "c1e16e6f-7fd0-406d-f61f-8bfd163233dd"
      },
      "execution_count": 2,
      "outputs": [
        {
          "output_type": "stream",
          "name": "stdout",
          "text": [
            "tensor([[0., 0., 0., 0., 0.],\n",
            "        [0., 0., 0., 0., 0.],\n",
            "        [0., 0., 0., 0., 0.],\n",
            "        [0., 0., 0., 0., 0.],\n",
            "        [0., 0., 0., 0., 0.]], dtype=torch.float64)\n",
            "<class 'torch.Tensor'>\n",
            "[[0. 0. 0. 0. 0.]\n",
            " [0. 0. 0. 0. 0.]\n",
            " [0. 0. 0. 0. 0.]\n",
            " [0. 0. 0. 0. 0.]\n",
            " [0. 0. 0. 0. 0.]]\n",
            "<class 'numpy.ndarray'>\n"
          ]
        }
      ]
    },
    {
      "cell_type": "code",
      "source": [
        "# tensor类型的运算\n",
        "# add\n",
        "x = torch.tensor([1,2,3])\n",
        "y = torch.tensor([9,8,7])\n",
        "z1 = torch.empty(3)\n",
        "torch.add(x,y,out=z1)#调用torch的add方法,其实就是两个tensor对象对应的元素相加\n",
        "print(z1)\n",
        "z2 = torch.add(x,y)#调用torch的add方法,其实就是两个tensor对象对应的元素相加\n",
        "print(z2)\n",
        "z = x+y #直接进行相加,其实就是两个tensor对象对应的元素相加\n",
        "print(z)\n"
      ],
      "metadata": {
        "colab": {
          "base_uri": "https://localhost:8080/"
        },
        "id": "lwNIWwubdJpX",
        "outputId": "bd434f8c-c11e-4dc5-b4c1-c8aa4067efe3"
      },
      "execution_count": 3,
      "outputs": [
        {
          "output_type": "stream",
          "name": "stdout",
          "text": [
            "tensor([10., 10., 10.])\n",
            "tensor([10, 10, 10])\n",
            "tensor([10, 10, 10])\n"
          ]
        }
      ]
    },
    {
      "cell_type": "code",
      "source": [
        "#subtract\n",
        "res = x - y\n",
        "print(res)\n",
        "res = torch.subtract(x,y)\n",
        "print(res)\n"
      ],
      "metadata": {
        "colab": {
          "base_uri": "https://localhost:8080/"
        },
        "id": "1AEEXGR6eTwH",
        "outputId": "176a2713-a581-4a1b-9d58-9346a98c49ad"
      },
      "execution_count": 4,
      "outputs": [
        {
          "output_type": "stream",
          "name": "stdout",
          "text": [
            "tensor([-8, -6, -4])\n",
            "tensor([-8, -6, -4])\n"
          ]
        }
      ]
    },
    {
      "cell_type": "code",
      "source": [
        "# division\n",
        "res = torch.true_divide(x,y)\n",
        "print(res)\n",
        "res = x/y\n",
        "print(res)"
      ],
      "metadata": {
        "colab": {
          "base_uri": "https://localhost:8080/"
        },
        "id": "cdgKHpunejC3",
        "outputId": "d4b5736d-677f-4301-91cc-e15fc2715d23"
      },
      "execution_count": 6,
      "outputs": [
        {
          "output_type": "stream",
          "name": "stdout",
          "text": [
            "tensor([0.1111, 0.2500, 0.4286])\n",
            "tensor([0.1111, 0.2500, 0.4286])\n"
          ]
        }
      ]
    },
    {
      "cell_type": "code",
      "source": [
        "# 上面的运算都不是原地操作,他们会返回新的tensor\n",
        "# 下面我们来学习原地操作这些函数都是带_的\n",
        "# 1.add_()\n",
        "t = torch.zeros(3)\n",
        "t.add_(x)\n",
        "# print(t)\n",
        "t += x # t = t + x\n",
        "# print(t)\n",
        "\n",
        "# 2.subtract_()\n",
        "t.subtract_(x)\n",
        "# print(t)\n",
        "t -= x\n",
        "# print(t)\n",
        "\n",
        "# 3.divide_()\n",
        "t1 = torch.tensor([2,4,6], dtype=torch.float32) # 奇怪,这里如果不把数据类型改为float,会报错\n",
        "t1.divide_(x)\n",
        "print(t1)"
      ],
      "metadata": {
        "id": "VY8CKr32kATV",
        "colab": {
          "base_uri": "https://localhost:8080/"
        },
        "outputId": "b28b0937-b53b-427a-ebd1-d0820c2c14f7"
      },
      "execution_count": 11,
      "outputs": [
        {
          "output_type": "stream",
          "name": "stdout",
          "text": [
            "tensor([2., 2., 2.])\n"
          ]
        }
      ]
    },
    {
      "cell_type": "code",
      "source": [
        "# 指数操作\n",
        "# 写法1\n",
        "# cub = x.pow(3)\n",
        "# print(cub)\n",
        "# 写法2\n",
        "cub = x**3\n",
        "print(cub)\n"
      ],
      "metadata": {
        "colab": {
          "base_uri": "https://localhost:8080/"
        },
        "id": "sODF_JROh48B",
        "outputId": "5ca41f96-7fb4-448e-febc-4c0ae9637bbb"
      },
      "execution_count": 14,
      "outputs": [
        {
          "output_type": "stream",
          "name": "stdout",
          "text": [
            "tensor([ 1,  8, 27])\n"
          ]
        }
      ]
    },
    {
      "cell_type": "code",
      "source": [
        "# tensor对象的比较\n",
        "print(x>0) # tensor([True, True, True]) 一个tensor和一个数字比较,也就是把这个tensor对象里面的所有元素都和这个数字比较,返回值是一个又布尔值组成的tensor\n",
        "# 两个tensor对象比较,也就是他们对应位置的元素的比较,(这两个tensor的形状必须完全相同)\n",
        "print(x<y) # tensor([True, True, True])"
      ],
      "metadata": {
        "colab": {
          "base_uri": "https://localhost:8080/"
        },
        "id": "QqJlKhkRiyq_",
        "outputId": "598436d3-158e-4d87-91be-9612a70691fb"
      },
      "execution_count": 16,
      "outputs": [
        {
          "output_type": "stream",
          "name": "stdout",
          "text": [
            "tensor([True, True, True])\n",
            "tensor([True, True, True])\n"
          ]
        }
      ]
    },
    {
      "cell_type": "code",
      "source": [
        "#矩阵乘法,要做矩阵乘法,第一个矩阵的列数需要等于第二个矩阵的行数,然后结果的行数是第一个矩阵的行数,结果的列数是第二个矩阵的列数\n",
        "x1 = torch.rand((2,5))\n",
        "x2 = torch.rand((5,3))\n",
        "x3 = torch.mm(x1,x2)\n",
        "print(x3) # 是一个2行3列的tensor(是矩阵来的)tensor([[1.6750, 1.6855, 1.4011],[1.3710, 1.0602, 0.9070]])\n"
      ],
      "metadata": {
        "colab": {
          "base_uri": "https://localhost:8080/"
        },
        "id": "1YDnHj5sjhDI",
        "outputId": "039f43db-4277-4189-8da4-7db33dd09d23"
      },
      "execution_count": 17,
      "outputs": [
        {
          "output_type": "stream",
          "name": "stdout",
          "text": [
            "tensor([[1.6750, 1.6855, 1.4011],\n",
            "        [1.3710, 1.0602, 0.9070]])\n"
          ]
        }
      ]
    }
  ]
}