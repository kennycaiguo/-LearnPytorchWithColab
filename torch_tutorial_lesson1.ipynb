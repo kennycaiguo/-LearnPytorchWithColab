{
  "nbformat": 4,
  "nbformat_minor": 0,
  "metadata": {
    "colab": {
      "provenance": [],
      "gpuType": "T4",
      "authorship_tag": "ABX9TyOsif7zNqg2ujoORRXqLJJi",
      "include_colab_link": true
    },
    "kernelspec": {
      "name": "python3",
      "display_name": "Python 3"
    },
    "language_info": {
      "name": "python"
    },
    "accelerator": "GPU"
  },
  "cells": [
    {
      "cell_type": "markdown",
      "metadata": {
        "id": "view-in-github",
        "colab_type": "text"
      },
      "source": [
        "<a href=\"https://colab.research.google.com/github/kennycaiguo/LearnPytorchWithColab/blob/main/torch_tutorial_lesson1.ipynb\" target=\"_parent\"><img src=\"https://colab.research.google.com/assets/colab-badge.svg\" alt=\"Open In Colab\"/></a>"
      ]
    },
    {
      "cell_type": "code",
      "execution_count": null,
      "metadata": {
        "colab": {
          "base_uri": "https://localhost:8080/"
        },
        "id": "16IXUb4NLIvw",
        "outputId": "8e998ca6-f679-4e96-a874-953a5d26b599"
      },
      "outputs": [
        {
          "output_type": "stream",
          "name": "stdout",
          "text": [
            "tensor([[0.2720, 0.4187, 0.4593],\n",
            "        [0.8361, 0.0019, 0.2021]])\n",
            "torch.Size([2, 3])\n"
          ]
        }
      ],
      "source": [
        "import torch\n",
        "\n",
        "mydevice = torch.device('cuda' if torch.cuda.is_available() else 'cpu')\n",
        "mytensor = torch.tensor([[1,2,3],[4,5,6]],dtype=torch.float32,device=mydevice,requires_grad=True) #创建tensor的时候可以指定使用cuda还是普通cpu建议使用cuda\n",
        "\n",
        "# print(mytensor)\n",
        "# print(mytensor.dtype)\n",
        "# print(mytensor.device)\n",
        "# print(mytensor.shape)\n",
        "# print(mytensor.requires_grad)\n",
        "\n",
        "# 可以创建一个空的tensor对象\n",
        "# empty_tensor = torch.tensor([]) # 创建空对象方法1\n",
        "# empty_tensor = torch.empty(size=(3,3)) # 创建空对象方法2\n",
        "# print(empty_tensor.shape)\n",
        "# print(empty_tensor.size())\n",
        "\n",
        "# 可以创建全部都是0的tensor对象\n",
        "# zero_tensor = torch.zeros(3,3)\n",
        "# print(zero_tensor)\n",
        "# print(zero_tensor.shape)\n",
        "\n",
        "# 可以创建全部都是1的tensor对象\n",
        "# one_tensor = torch.ones(2,5)\n",
        "# print(one_tensor)\n",
        "# print(one_tensor.shape)\n",
        "\n",
        "# 可以创建对角线是1,其他位置是0的tensor对象\n",
        "# eye_tensor = torch.eye(5,5)\n",
        "# print(eye_tensor)\n",
        "# print(eye_tensor.shape)\n",
        "\n",
        "# 可以用0-1的随机数来创建tensor对象\n",
        "rnd_tensor = torch.rand(2,3)\n",
        "print(rnd_tensor)\n",
        "print(rnd_tensor.shape)"
      ]
    }
  ]
}