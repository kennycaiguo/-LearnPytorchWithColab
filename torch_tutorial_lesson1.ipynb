{
  "nbformat": 4,
  "nbformat_minor": 0,
  "metadata": {
    "colab": {
      "provenance": [],
      "gpuType": "T4",
      "authorship_tag": "ABX9TyMRdQ1eNo76VDdNKFqQlLnF",
      "include_colab_link": true
    },
    "kernelspec": {
      "name": "python3",
      "display_name": "Python 3"
    },
    "language_info": {
      "name": "python"
    },
    "accelerator": "GPU"
  },
  "cells": [
    {
      "cell_type": "markdown",
      "metadata": {
        "id": "view-in-github",
        "colab_type": "text"
      },
      "source": [
        "<a href=\"https://colab.research.google.com/github/kennycaiguo/LearnPytorchWithColab/blob/main/torch_tutorial_lesson1.ipynb\" target=\"_parent\"><img src=\"https://colab.research.google.com/assets/colab-badge.svg\" alt=\"Open In Colab\"/></a>"
      ]
    },
    {
      "cell_type": "code",
      "execution_count": 1,
      "metadata": {
        "colab": {
          "base_uri": "https://localhost:8080/"
        },
        "id": "16IXUb4NLIvw",
        "outputId": "f5f22231-ad2c-45c9-8418-31de90ead421"
      },
      "outputs": [
        {
          "output_type": "stream",
          "name": "stdout",
          "text": [
            "tensor([0, 1, 2, 3])\n",
            "tensor([False,  True,  True,  True])\n",
            "tensor([0, 1, 2, 3], dtype=torch.int16)\n",
            "tensor([0, 1, 2, 3], dtype=torch.int32)\n",
            "tensor([0, 1, 2, 3])\n",
            "tensor([0., 1., 2., 3.], dtype=torch.float16)\n",
            "tensor([0., 1., 2., 3.])\n",
            "tensor([0., 1., 2., 3.], dtype=torch.float64)\n"
          ]
        }
      ],
      "source": [
        "import torch\n",
        "\n",
        "mydevice = torch.device('cuda' if torch.cuda.is_available() else 'cpu')\n",
        "mytensor = torch.tensor([[1,2,3],[4,5,6]],dtype=torch.float32,device=mydevice,requires_grad=True) #创建tensor的时候可以指定使用cuda还是普通cpu建议使用cuda\n",
        "\n",
        "# print(mytensor)\n",
        "# print(mytensor.dtype)\n",
        "# print(mytensor.device)\n",
        "# print(mytensor.shape)\n",
        "# print(mytensor.requires_grad)\n",
        "\n",
        "# 可以创建一个空的tensor对象\n",
        "# empty_tensor = torch.tensor([]) # 创建空对象方法1\n",
        "# empty_tensor = torch.empty(size=(3,3)) # 创建空对象方法2\n",
        "# print(empty_tensor.shape)\n",
        "# print(empty_tensor.size())\n",
        "\n",
        "# 可以创建全部都是0的tensor对象\n",
        "# zero_tensor = torch.zeros(3,3)\n",
        "# print(zero_tensor)\n",
        "# print(zero_tensor.shape)\n",
        "\n",
        "# 可以创建全部都是1的tensor对象\n",
        "# one_tensor = torch.ones(2,5)\n",
        "# print(one_tensor)\n",
        "# print(one_tensor.shape)\n",
        "\n",
        "# 可以创建对角线是1,其他位置是0的tensor对象\n",
        "# eye_tensor = torch.eye(5,5)\n",
        "# print(eye_tensor)\n",
        "# print(eye_tensor.shape)\n",
        "\n",
        "# 可以用0-1的随机数来创建tensor对象\n",
        "# rnd_tensor = torch.rand(2,3)\n",
        "# print(rnd_tensor)\n",
        "# print(rnd_tensor.shape)\n",
        "\n",
        "# 还可以使用arange函数来创建\n",
        "# a_tensor = torch.arange(start=0,end=5,step=1)\n",
        "# print(a_tensor)\n",
        "# print(a_tensor.shape)\n",
        "\n",
        "# 还可以使用linspace函数来创建tensor\n",
        "# l_tensor = torch.linspace(start=0.1,end=1,steps=10)\n",
        "# print(l_tensor)\n",
        "# print(l_tensor.shape)\n",
        "\n",
        "# tensor转化为其他数据类型\n",
        "tensor1 = torch.arange(4)\n",
        "print(tensor1)\n",
        "print(tensor1.bool()) # 转化为布尔类型\n",
        "print(tensor1.short()) # 转化为短整型\n",
        "print(tensor1.int()) # 转化为整型\n",
        "print(tensor1.long()) # 转化为长整型\n",
        "\n",
        "print(tensor1.half()) # 转化为半精度浮点型 float16\n",
        "print(tensor1.float()) # 转化为单精度浮点型 float32\n",
        "print(tensor1.double()) # 转化为双精度浮点型 float64s"
      ]
    },
    {
      "cell_type": "code",
      "source": [
        "# ndarray=>tensor以及tensor->ndarray\n",
        "import numpy as np\n",
        "arr = np.zeros((5,5))\n",
        "#ndarray=>tensor\n",
        "tensor = torch.from_numpy(arr)\n",
        "print(tensor)\n",
        "print(type(tensor))\n",
        "\n",
        "#tensor->ndarray\n",
        "arr2 = tensor.numpy()\n",
        "print(arr2)\n",
        "print(type(arr2))"
      ],
      "metadata": {
        "colab": {
          "base_uri": "https://localhost:8080/"
        },
        "id": "oFvEs8zRcKDn",
        "outputId": "c1e16e6f-7fd0-406d-f61f-8bfd163233dd"
      },
      "execution_count": 2,
      "outputs": [
        {
          "output_type": "stream",
          "name": "stdout",
          "text": [
            "tensor([[0., 0., 0., 0., 0.],\n",
            "        [0., 0., 0., 0., 0.],\n",
            "        [0., 0., 0., 0., 0.],\n",
            "        [0., 0., 0., 0., 0.],\n",
            "        [0., 0., 0., 0., 0.]], dtype=torch.float64)\n",
            "<class 'torch.Tensor'>\n",
            "[[0. 0. 0. 0. 0.]\n",
            " [0. 0. 0. 0. 0.]\n",
            " [0. 0. 0. 0. 0.]\n",
            " [0. 0. 0. 0. 0.]\n",
            " [0. 0. 0. 0. 0.]]\n",
            "<class 'numpy.ndarray'>\n"
          ]
        }
      ]
    },
    {
      "cell_type": "code",
      "source": [
        "# tensor类型的运算\n",
        "# add\n",
        "x = torch.tensor([1,2,3])\n",
        "y = torch.tensor([9,8,7])\n",
        "z1 = torch.empty(3)\n",
        "torch.add(x,y,out=z1)#调用torch的add方法,其实就是两个tensor对象对应的元素相加\n",
        "print(z1)\n",
        "z2 = torch.add(x,y)#调用torch的add方法,其实就是两个tensor对象对应的元素相加\n",
        "print(z2)\n",
        "z = x+y #直接进行相加,其实就是两个tensor对象对应的元素相加\n",
        "print(z)\n"
      ],
      "metadata": {
        "colab": {
          "base_uri": "https://localhost:8080/"
        },
        "id": "lwNIWwubdJpX",
        "outputId": "bd434f8c-c11e-4dc5-b4c1-c8aa4067efe3"
      },
      "execution_count": 3,
      "outputs": [
        {
          "output_type": "stream",
          "name": "stdout",
          "text": [
            "tensor([10., 10., 10.])\n",
            "tensor([10, 10, 10])\n",
            "tensor([10, 10, 10])\n"
          ]
        }
      ]
    },
    {
      "cell_type": "code",
      "source": [
        "#subtract\n",
        "res = x - y\n",
        "print(res)\n",
        "res = torch.subtract(x,y)\n",
        "print(res)\n"
      ],
      "metadata": {
        "colab": {
          "base_uri": "https://localhost:8080/"
        },
        "id": "1AEEXGR6eTwH",
        "outputId": "176a2713-a581-4a1b-9d58-9346a98c49ad"
      },
      "execution_count": 4,
      "outputs": [
        {
          "output_type": "stream",
          "name": "stdout",
          "text": [
            "tensor([-8, -6, -4])\n",
            "tensor([-8, -6, -4])\n"
          ]
        }
      ]
    },
    {
      "cell_type": "code",
      "source": [
        "# division\n",
        "res = torch.true_divide(x,y)\n",
        "print(res)\n",
        "res = x/y\n",
        "print(res)"
      ],
      "metadata": {
        "colab": {
          "base_uri": "https://localhost:8080/"
        },
        "id": "cdgKHpunejC3",
        "outputId": "d4b5736d-677f-4301-91cc-e15fc2715d23"
      },
      "execution_count": 6,
      "outputs": [
        {
          "output_type": "stream",
          "name": "stdout",
          "text": [
            "tensor([0.1111, 0.2500, 0.4286])\n",
            "tensor([0.1111, 0.2500, 0.4286])\n"
          ]
        }
      ]
    },
    {
      "cell_type": "code",
      "source": [],
      "metadata": {
        "id": "VY8CKr32kATV"
      },
      "execution_count": null,
      "outputs": []
    }
  ]
}