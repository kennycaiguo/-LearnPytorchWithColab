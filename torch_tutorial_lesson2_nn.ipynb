{
  "nbformat": 4,
  "nbformat_minor": 0,
  "metadata": {
    "colab": {
      "provenance": [],
      "gpuType": "T4",
      "authorship_tag": "ABX9TyOddeiEUXCElwNzZBnhUWCO",
      "include_colab_link": true
    },
    "kernelspec": {
      "name": "python3",
      "display_name": "Python 3"
    },
    "language_info": {
      "name": "python"
    },
    "accelerator": "GPU"
  },
  "cells": [
    {
      "cell_type": "markdown",
      "metadata": {
        "id": "view-in-github",
        "colab_type": "text"
      },
      "source": [
        "<a href=\"https://colab.research.google.com/github/kennycaiguo/-LearnPytorchWithColab/blob/main/torch_tutorial_lesson2_nn.ipynb\" target=\"_parent\"><img src=\"https://colab.research.google.com/assets/colab-badge.svg\" alt=\"Open In Colab\"/></a>"
      ]
    },
    {
      "cell_type": "markdown",
      "source": [
        "## NN"
      ],
      "metadata": {
        "id": "BoEI8CZm3XcA"
      }
    },
    {
      "cell_type": "code",
      "execution_count": 5,
      "metadata": {
        "colab": {
          "base_uri": "https://localhost:8080/"
        },
        "id": "hp44oJeCDSx4",
        "outputId": "989365ae-65b5-4899-ee56-e3ae9d8c30a0"
      },
      "outputs": [
        {
          "output_type": "stream",
          "name": "stdout",
          "text": [
            "Checking accuracy on Train data\n",
            "got 55992/60000 with accuracy:93.32\n",
            "Checking accuracy on Test data\n",
            "got 9312/10000 with accuracy:93.12\n"
          ]
        },
        {
          "output_type": "execute_result",
          "data": {
            "text/plain": [
              "tensor(0.9312, device='cuda:0')"
            ]
          },
          "metadata": {},
          "execution_count": 5
        }
      ],
      "source": [
        "# nn\n",
        "import torch\n",
        "import torch.nn as nn\n",
        "import torch.optim as optim\n",
        "import torch.nn.functional as F\n",
        "from torch.utils.data import DataLoader\n",
        "import torchvision.datasets as datasets\n",
        "import torchvision.transforms as transforms\n",
        "\n",
        "class NN(nn.Module):\n",
        "    def __init__(self, input_size, num_classes):\n",
        "        super(NN, self).__init__()\n",
        "        self.fc1 = nn.Linear(input_size, 50)\n",
        "        self.fc2 = nn.Linear(50, num_classes)\n",
        "\n",
        "    def forward(self,x):\n",
        "      x = F.relu(self.fc1(x))\n",
        "      x = self.fc2(x)\n",
        "      return x\n",
        "\n",
        "# set device\n",
        "device = torch.device('cuda' if torch.cuda.is_available() else 'cpu')\n",
        "# print(device)\n",
        "#超参数设置\n",
        "input_size = 784\n",
        "num_classes = 10\n",
        "learnng_rate = 0.001\n",
        "\n",
        "batch_size = 64\n",
        "num_epochs = 1\n",
        "\n",
        "# 加载数据集\n",
        "train_dataset = datasets.MNIST(root=\"dataset/\",train=True,transform=transforms.ToTensor(),download=True)\n",
        "train_loader = DataLoader(dataset=train_dataset,batch_size=batch_size,shuffle=True)\n",
        "\n",
        "test_dataset = datasets.MNIST(root=\"dataset/\",train=False,transform=transforms.ToTensor(),download=True)\n",
        "test_loader = DataLoader(dataset=test_dataset,batch_size=batch_size,shuffle=True)\n",
        "# 初始化神经网络\n",
        "model = NN(input_size=input_size,num_classes=num_classes).to(device)\n",
        "\n",
        "#损失函数和优化器\n",
        "criteron = nn.CrossEntropyLoss()\n",
        "optimizer = optim.Adam(model.parameters(),lr=learnng_rate)\n",
        "\n",
        "#训练模型\n",
        "for epoch in range(num_epochs):\n",
        "  for batch_idx,(data,targets) in enumerate(train_loader):\n",
        "    # 把数据发送到cuda(如果可用)\n",
        "    data=data.to(device=device)\n",
        "    targets=targets.to(device=device)\n",
        "    # print(data.shape)\n",
        "    # get the correct shape\n",
        "    data = data.reshape(data.shape[0],-1)\n",
        "    # forward\n",
        "    scores = model(data)\n",
        "    # loss\n",
        "    loss = criteron(scores,targets)\n",
        "    # 反向传播\n",
        "    optimizer.zero_grad() # 清空优化器的梯度缓存\n",
        "    loss.backward()\n",
        "\n",
        "    #梯度下降炒操作\n",
        "    optimizer.step()\n",
        "\n",
        "#模型验证,检验准确率\n",
        "def check_accuracy(loader,model):\n",
        "  if loader.dataset.train:\n",
        "    print(\"Checking accuracy on Train data\")\n",
        "  else:\n",
        "    print(\"Checking accuracy on Test data\")\n",
        "  num_correct = 0\n",
        "  num_samples = 0\n",
        "  model.eval()\n",
        "\n",
        "  with torch.no_grad():\n",
        "    for x,y in loader:\n",
        "      x = x.to(device=device)\n",
        "      y = y.to(device=device)\n",
        "      x = x.reshape(x.shape[0],-1)\n",
        "\n",
        "      scores = model(x)\n",
        "      _,predictions = scores.max(1)\n",
        "      num_correct += (predictions==y).sum()\n",
        "      num_samples += predictions.size(0)\n",
        "    print(f\"got {num_correct}/{num_samples} with accuracy:{float(num_correct)/float(num_samples)*100:.2f}\")\n",
        "\n",
        "  model.train()\n",
        "  return num_correct / num_samples\n",
        "\n",
        "check_accuracy(train_loader,model)\n",
        "check_accuracy(test_loader,model)\n",
        "\n",
        "\n",
        "\n"
      ]
    },
    {
      "cell_type": "markdown",
      "source": [
        "## CNN也就是卷积神经网络"
      ],
      "metadata": {
        "id": "0-RG40CU3cs4"
      }
    },
    {
      "cell_type": "markdown",
      "source": [
        "## CNN网络中输入特征和输出特性的关系\n",
        "![image.png](data:image/png;base64,iVBORw0KGgoAAAANSUhEUgAAAekAAAERCAYAAABfD1/jAAAAAXNSR0IArs4c6QAAAARnQU1BAACxjwv8YQUAAAAJcEhZcwAADsMAAA7DAcdvqGQAAJTfSURBVHhe7P1ncFxXmqAJP+kdMpHwCe8BggY0IkVSorxKKmmqy3b3dE3NTEfPbvRuTE9H7EbMbOyv3fmxPzdiXXT0xHZ0T010T+/0VpekUkkqSTSiFQ1IEIT3HkhkAon03tzvx5fn7mUSoJFIilU6T0QGMu89/l6c97znvOe8OkVRFCQSiUQikXxjFAoFAGKxGP/L//K/8PHHH/M//o//I/rSgBKJRCKRSJ4NpJCWSCQSieQZQ6fTgRTSEolEIpF8MyiKQqFQoHTVWVEUdDodOp1OCmmJRCKRSL4JSoW0Tqcjn8+Tz+cBMBgMUkhLJBKJRPI0URSFfD7P5uYm8/PzhEIh9XokEiEUCmGz2XA4HFJISyQSiUTyNNHpdGxvb/Pee+/xf/wf/wdDQ0MoioJer2dlZYXl5WUaGhpobGyUQloikUgkkqeBoigoikIul2NkZIT/9//9f/noo4+YnZ0lnU6Ty+WYn59nc3OT9vZ2PB6PFNISiUQikTxphIBWFAWfz8f58+eZn58nnU6zvLxMMBgkHA4zOTlJoVCgp6eHiooKKaQlEolEInnSCOOwXC7Hl19+ydmzZ7FarVitVkZGRlhdXWV9fZ3JyUnKy8vp6urCZrNJIS2RSCQSydPC7/dz7tw5otEoP/nJT3jxxRdZWVlhYmKCoaEhVlZW6Orqorm5GeQ+aYlEIpFInjxie9Xk5CSTk5O0t7fze7/3e7z00ktks1k++ugj3nvvPTKZDMeOHaO+vh6kkJZIJBKJ5Mmj0+nY3Nzk/PnzbG5u0t/fT1tbG/v27aOtrY1Lly5x+fJl+vr6OHnyJA6Hg0KhIIW0RCKRSCRPEmEwNjc3x9WrV3G73Rw9epRcLkcmk6G8vJxUKoXb7ea1116jq6tLHgsqkUgkEsnTQAjpeDxOIpHAYDAwMzPDX/3VX/G//+//O7du3cJgMFBWVobT6cRsNqtxpZCWSCQSieQJIs7hdjgcVFVVMTU1xf/5f/6f/N3f/R0rKyv09/fzne98h2w2y4ULF5ifn1ddV+qkP2mJRCKRSJ4chUIBnU7H2toan3/+OUNDQxQKBZqamujv76e3t5fNzU3+4i/+gqGhIX7605/y05/+lKamJimkJRKJRCJ5WmQyGXK5HAaDAZPJhF7//5/QTiQSnD59mr/4i7/A7/fzve99jx/96EdSSEskEolE8rRRiu4oxXeASCTCp59+yl//9V8zNzfHiRMnpJCWSCQSieRpohW7WkGtKArRaJSLFy/yH//jf+TmzZtSSEskEolE8iwgBHUmk+HatWt8+OGHUkhLJBKJRPKsIKy60+k00WhUCmmJRCKRSJ5FFEWR+6QlEolEInlWkUJaIpFIJJJnEJ1OJ4W0RCKRSCTPKlJISyQSiUTyjCKFtEQikUgkzyhSSEskEolE8owihbREIpFIJM8oUkhLJBKJRPKMIoW0RCKRSCTPKFJISyQSiUTyjCKFtEQikUgkzyhSSEskEolE8owihbREIpFIJM8oUkhLJBKJRPKMIoW0RCKRSCTPKFJISyQSiUTyjCKFtEQikUgkzyhSSEskEolE8owihbREIpFIJM8oUkhLJBKJRPKMIoW0RCKRSCTPKFJISyQSiUTyjCKFtEQikUgkzyhSSEskkm8tiqKgKErpZYnkmUEKaYlE8q1HCmrJs4oU0hKJ5FuPTqcrvSSRPBPoFDmElEgkEonkmURq0hKJ5JlA6gsSyb1ITVoi+RYiDKZ0Ot0zMdW7Wzf0LJRNIvkmkZq0RPItZjfh+E2gtbR+lsolkXyTSE1aIvktR/wLP6zWWSgUyGQy5HI5dDodJpMJk8n00PGfBKlUipWVFTY3N6msrKSpqQmHwwGPUC+J5HcRKaQlkq+I9l/nmxQkQgPV63efGBNhotEoa2trbG9vk0gkyOfzVFZW0tHRQXV19TdWj1AoxJkzZ/j000/Zs2cPP/3pT2loaIBvuG0lkm+a3f+rJRLJfRHruUKIaKdrd/r9uFEUhWQyic/nIxKJlN5WEeXIZDKMjY3x/vvvc/PmTZaXl7l+/Tr/z//z/3D+/Hni8TiKolAoFEqTeKJ1URQFu91OdXU1mUyGSCSCxWLZtSwSybcJKaQlkodECI1cLkc2m6VQKFAoFO4RYDv9ftyIPLxeL2fPnmV8fLw0yD3k83kSiQRms5kjR47wne98h8OHD7OyssKZM2fw+XxqWJH+k6jLTmno9XqsVitVVVU0NzfjdDrvMWoT7Z/NZkmlUuRyubvSkEh+F5FCWiJ5BBKJBBMTEwwODhIKhVAUhVwuRzKZZHt7m+3tbTKZDJlMhkAgwNbWFqlU6h5h91XRCs58Ps/29jbDw8Osra2p18TAQYTX6XTo9XosFgv9/f384R/+IceOHaO5uZnu7m6qqqqIRqOqJp1IJNjc3CQcDlMoFEgmk2xubhIMBncUjKI8YtCi/WjrLcKUotPpSKfTbGxskMlkqK2tBSAcDuP3+wmFQuTzeSiuXU9OTnLhwgWWl5dLUpJIfveQQloieQRisRgXLlzg/fffx+v1otPpSKVSLCwscOHCBT777DMmJiZYXFzkyy+/5KOPPmJ4eJhsNlua1GMR2qXT7eKvNm3x3Wg0UlNTQ0tLCxaLhVwuRyQSIZfL0djYiNvtJhKJMDk5yZkzZ/jiiy+Ym5tjZmaGL774gs8//5z5+fkdBTU7aN/acggNWLRDaVnj8TgbGxsYDAbq6+uJRqNcunSJDz74gLGxMVKpFADxeJxLly7xn/7Tf2JsbEyTu0Tyu4kU0hLJI5DL5QiFQmxubpJOpwHIZrOEQiGWlpY4ffo0n3/+Oaurq4RCIc6dO8enn35KKpW6xwCq9PeDUBSFbDZLNBolHA4TjUZJJBLq9G80GiUWi5FIJMhkMhQKhR2FuCAYDDIxMYHdbueVV16hurpanRGYnZ3lN7/5DZcvXyYQCBAOh7lw4QLnz58nGo3elY6iKKTTaWKxGNFolGg0SiQSUf+GQiECgQB+v594PE4+n7+n7rFYDK/Xi9lsxuVysbKyws2bN1laWlLrQVHYh8NhvF4v8Xj8rjQkkt9FpJCWSB4BpTilTHEdFcBisdDR0UF7ezuJRIJgMEhDQwP79+/HZrMRDAbVOPl8nlgsRiwWI5/P76r17kQ2m8Xr9TIwMMDFixe5fPkyN2/eZGFhgYmJCb788kuuXLnCwMAAq6ur92i8WoEdi8UYGhpicXGRkydP8sILL2CxWHC5XHR1deHxeNTp756eHo4dO4bdbmd6eloV0qKsmUyGxcVFrl27xpUrV7h8+TKXL1/m4sWLXLx4kUuXLnHx4kUGBwfx+/33lEtRFCKRCJubm2QyGbU+zc3N/OAHP+Dw4cNYrVZ1qrxQKKjtKZH8riOFtETyNTGbzZSVlama9d69e2lubiaTyQDQ2NiI2WxGURRisRgjIyOMjY2p9x+FbDZLJBJRNelYLKZqsaFQiFAoRDgcVqeHBdrBQCwW4/bt29y6dYuWlhZeffVVKioq0Ol02O12bDYbsViMsrIyDh8+TH19PQaDAQCDwaAKeq12m0ql1MGH0KDD4TCRSIRYLKauy4v1cYFOpyOfz7O1tYXP52N1dZWPP/6YiYkJjhw5wuHDhykrK7urDjuta0skv6tIIS2RPCJajVT8jsVirK+vU1FRQV9fH4qisLS0RDKZpKOjA4vFok6Lr6ysEAqFKBQKpNNpdcpa+30nzGYzra2tvPrqq7z77ru8/fbbvPjii3R3d3P48GHefvtt3n77bV555RXa29sxGo1qXCHcUqkUU1NTXL9+nYqKCt544w0aGhpUAa4U14eDwSA1NTU0NjaSzWbZ2Nhge3uburo6XC6XplRgtVrp6enhjTfe4K233uLtt9/mnXfe4d133+Xdd9/ln/yTf8L3vvc9Xn31VVpbWzGbzXfFT6fTrK+vk0qlaGlpIZPJ4Pf7sVqt6lYsIeD5CssEEslvM1JISySPiBAaQnDodDoikQjr6+vU1NTQ0NBAKpVStzTV19eTyWQIBoPMzMyQTqdpa2sjm80yPDzMlStXGB8fZ2RkhIsXLzI6OnqPJizyNRgMuN1uqqqqqKiowO1243Q6cbvdVFRUqB+Hw6FqrEIAA3i9Xi5dukQkEqG/vx+Hw8Hq6ipzc3MEg0EURWF7e5tgMIjL5cJsNhMIBJiZmcFsNnPw4EFVsxXo9Xrsdjvl5eVqObTlcTgclJWVqemVasLxeByv10t5eTlvvfUWx44dIxaLsby8rGrhaISztj4Sye86UkhLJF8DnU6HoiiEw2HC4TC1tbVUVVWRz+fJZrPk83k2NzdV7Xl8fJyxsTGU4tT3+Pg4n3zyCadPn2ZsbIwLFy5w5swZtre3oUQgaQcHpddLw+xEOp1mbGyMy5cvs7Kyoh5k8rd/+7d88MEHrK6ukkwmWV1dZX19nWAwyMjICFeuXMHn8/H8889z8OBBDAbDPfloyyXWjMU2rFwup66/53I5crncXWEDgQDb29s0NDTQ1dVFR0cHdrudoaEhxsfHCQQCUBwMlM5iPGl2a0uJ5GkhhbRE8jVRFAWLxUJfXx/79u3DbDZjt9vp6+ujp6eHWCxGNpvFYrFgMpmwWCxYLBYcDge1tbUkk0mSySRtbW2UlZURDodVQaZFr9djMBjQ6/Xqp6Kigt7eXurq6tT13p2OB9XpdORyOQqFArW1tdhsNhYWFpienmZ9fZ18Po/JZFJPMNPpdBiNRsbHx9nc3OTw4cO8+eabVFVVlSatohWioiwiHVEm7Zo2xfVsnU5HR0cHL730Ek1NTXR3d3PixAkoHhcqzhUX7fFVhHRpW94PMXgQGr92ACKRPG3k2d0SyUOiKAqrq6v8zd/8DcvLy/zZn/0Zhw8fJp/Pq4ZSbrcbt9tNoVAgEomwtbWF2WymqqqKzc1NfvWrX2G32/npT3+KyWTiypUr/PrXv+bVV1+lp6eH//Jf/gsul4v/6r/6rygvL3+g5phMJgmFQthsNtxud+ltVbjoigZagUCAzc1NVdMVwtRut1NXV8fW1hZ///d/TygU4oc//CFutxuLxUJNTQ1lZWWqAZlIW5RN242I79rpdiHwtFq4qFsymSQcDmM2m6msrCSbzbK1tUUkEqGiooKqqio1Lb/fz1/91V/x+eef86//9b/mj/7oj9R878ejCHitQBa2AmKAtdMASCJ5ksg3TiJ5DDidTlpbW3G73argKy8vp7Ozk+bmZmw2m7rNyGAwkMvliEajbGxsYDKZaGlpIRwOs7W1hc1mQynuiX6QULHZbNTX1+8ooAVCGBoMBmpqati7dy8HDhzg4MGD9Pf3s2/fPtrb23E4HAQCAVZXV3G73ezZs4e+vj46OjpwOp3o9XpVeGn/agU0ReGsFWaiPYQ2XBrHarVSW1uL2+1GURRMJhP19fX09PRQU1NzlxYt0nsUhFZcWs77kc1m8fv9fPnll3zxxRf4/X50Ot096+kSyZNGCmnJY0fbEStFLWqnzvlpcL/8vm6ZSoVFaVql6efzedLpNH6/n42NDRKJBLFYTDWyKhQKGI1GkskkgUDgnv3EpTxsuXcrk/ho147FwSPpdJpUKqVq3GiE/YPyLW0HdogrhLZAXL9fm5am+TAUCgVCoRDT09Osra09VJsmk0nm5+c5ffo0P//5z/nggw/wer13TYFLJE8LKaQlj40HdaI7dd5PEm3nvtOn9N5XRV9cKxbrxRSFjfaaXq+nrq6O5557jubmZnVNurOzk+eff57q6mqampp4/vnnaWpqwmKx3LNVqZRSgbYTQjiK76JM2o/RaFTXiqurqzl+/DidnZ1Qsg5emuZu+d/vnmgL7X1RrtKpZF1RA9dOsX8VhBOSO3fuqNvbdnveSvFglZWVFba2tgiFQmxtbT1QuEskTwoppCWPlVQqxdraGhMTE6ytrZFIJPB6vYyNjbGysrLrHuDHjVLiMWm3TyaTIZvN7tppPwwiL+20qvaa+F1TU8M777zDd7/7XRobG3G5XDz//POcOHECh8NBfX093/3ud3njjTfweDwYDIa70n3UjyhDaflKP6Luer2e7u5u/vk//+e88847VFVVoStqv6VxtHFLP6VhxEe01f3C7PYR8R4WReNsRLyDwWDwnjRLURQFo9FIW1sbL7/8Mnv37sVoNFKQGrTkG0IKacljQSlur9nY2GBgYID333+fDz/8kNHRUe7cucMnn3zCe++9x9ramhr+SSE69FTRY5I4QvPSpUs7fu7cuUMwGCxN5r6UaotC8GiFlfaeUtzjXF5eTnV1NSaTCaPRiMvlUt0yGo1GqqurqampwWQy3ZPeTp+dKL3/IAGjaAy7bDYbdXV11NbW3nWQiAhT+vthPqXl0f5+2A8POXMg0OZF0bmI0NZL09Wi1+txu910dHTQ2NiI1WrdMZxE8rSQ1t2Sx4KiKGQyGVZXV5mamuL06dN4vV5+/OMf09LSwrVr17hx4wb/9X/9X/Paa6+h7GAZ/CidsNDwxHct4no0GmVwcJCZmRm1c9Yi4tXW1nLkyBEaGxvvul+KUmLd/W/+zb/hwIEDhMNhQkW3ldpyCUrL96iUpocmzZ3uaXmYcI9aPu2ze1i0+ZcObnZDhNPpdDgcDtxuN6FQiL/6q7/is88+41//63/NT3/607viKMUT0wKBgHrs6sTEBGfPnqWzs5O33noLo9GITqdTD18RU/0CMbDw+/385V/+JcPDw/zbf/tveeGFFygU7QYkkqeFFNKSx4JS1EzS6TRLS0v81V/9FV6vl//uv/vv6Ozs5OOPP+azzz7jv/1v/1tOnTp1V0cv4uo02mnpfTTaazabJRwOk06nqa2txWQyaUry/5HJZAiHw8RisdJbd2GxWKioqMBms5Xeugtlhy1YfX19TE5OMjo6qpa5UCjsuO5aysMKu93+RXU7DAhKKW3DnXiYMmh52HJr0eavjXu/cgmMRiOtra3s3buXZDJ51xasUiGdz+dZXl5maGiISCSCTqdjfn6eW7duqWv+Yhajt7eXvr4+LBbLXWUSzjv8fj//4T/8B4aGhvh3/+7fSSEt+UaQQlryWMnlcgwNDfF//V//F83Nzfzbf/tvicfj/PVf/zXLy8v8u3/37+jp6aFQ3KObzWZJJpMYDAZsNht6vZ5s0e+wOPgjl8uRzWbR6/WYTCb8fj9XrlwhEonwne98R50e1hoeKUWNanZ2Fq/Xe1cZteiKGlVXVxc1NTWlt++iVEj/m3/zb9i7dy9ra2usrq6qg4hSIV0qKB9VwH0b0XZLBoOB6upqGhsbCYfDqpD+sz/7s3v2SRcKBba2tlhaWlKPExVLHm1tbbz22mtYLBYMBgMNDQ00NDTcI3SFJu3z+fjLv/xL7ty5owpppbhmLZE8LaSQljwWxGuUTCa5cOECf//3f8+bb77Jz372M8bGxvjLv/xLqqur+fM//3Oqq6vJ5XL4/X71zGiTyURnZycej4elpSVWV1dpampi3759bG9vMzExQWNjI42NjVy/fp2//du/BeCHP/wh/f39NDU13dN5hsNhBgYGmJ2dVctYKiB1Ot1dVtf3YychfejQIXXAoU27NB/J10O8Xz6f775CWiDCK4rC7du3ef/999mzZw8//vGP1XXm3azGtdPd/+E//AdVSJ88efK+8SSSJ4E0HJM8NnQ6HalUitXVVYxGIx0dHeRyOXw+H9vb27hcLpLJJMFgEJ/Px7lz57hx4wbhcJhbt27xm9/8Rj03+ssvv2RgYIBYLMbs7Cznz5/H5/Opp2ZFIhH1eMudhC+Aw+Hg2LFj/PCHP+QHP/gBP/zhD3f8vPLKK9TW1t6lvZVSek/81t3nKE7J40X7DHZ63lq0sxi6EvsF7bXS50oxn2w2SzweJ5VKqbM9mUyGwgOM8CSSx43sWSSPFbEOXFlZSXNzMzqdDqvVisPhIBgMMjc3x9bWlupTua+vjzfeeIOqqiomJiZIpVKqVpzNZslkMqysrJDJZKisrFTTa2lpUd0ytrS07KjdCGtqYa0s/pZ+3G73A/cka9FqadrPk6Q0r0fNrzTu/T73ozTs/T6Pk6+TntFoxOFwqMsplAhrLUrRAHJxcZEbN26wurpKPB5neHiY0dFRQqHQXeElkieNFNKSx4Lo7KxWK/v37+fVV1+ltrYWo9FIZ2cnb7/9Nt3d3ZSXl2M2m1lcXMRoNHL48GHMZjPZogMKh8NBoVAgmUxSV1dHLpdjZWUFh8NBdXW16vKxrKyMtrY2zGbzjgKakrXg3QTHTtceBm28r5rGg7hfuR+VUmH0KNd+m1EUhaqqKo4dO0Z3d7fqrGOneop2LhQKqovM/v5+3njjDSwWC1tbW3cdhvI4notE8iCkkJY8VpxOJ6dOneLVV19VNRePx8O7777L97//ffbt24fdbiefz2MwGFRrcL/fT1dXF263G7/fTzwex2w2s7KywsrKCiaTiUwmQyQSIRAIqOvA29vbDzwgRa/X37VPtvSj7bQfpuPVamHauKW/nyRfJw+tMNJO3z5MmqX13u3DfbTup4UoR01NDSdPnqSnp+e+yxKi7Farle7ubt555x3++I//mD/90z/lRz/6Ec8999x9vYBJJE+C3d9YieQrYDAYcDgcOBwO9Zper8fpdFJZWYnFYsFms9HR0YFer+f8+fPcvn2b6upqTp06RXl5OSaTCYPBwOrqKj6fD4vFQjweZ21tjXw+j9lsJhKJcOfOHbxer7pl5uvyMEJqJ75qvAexU7paIfh10ApLZZc1/a9DqdAuFeBPC71ej9lspqysDKvVWnp7RwwGAy6Xi7q6OnWJxOPxUFVVpS6LfBN1kXw7kUJa8sQp7czKyso4cuQIx44dQ6fTUVtby3e+8x327duH1Wqls7OTl19+mbq6Ojo6Onj77bfZu3cv5eXl1NTU8Pzzz3PkyBFMJhMul2vXfdIPy9PU7h6Vxy3gkskka2trzMzMqNvT0un0U9dynzaPWrdS7f9R40skjwu5BUvyxBCv1k7CRaw7p9NpzGYzVqtV3UIl7uXzeaxWK4WihyaLxYLRaCSXy5FMJtHpdNhstnu2Xj0qWk1yN61S1EVswVpaWuLP//zPOXz48H3r+aygKArhcJjh4WHm5ubI5XJEIhHsdjtvvvkmXV1dKIpy3+ngbxIxLS/8SZ8+ffqR/ElLJL+tPJv/kZLfCe6n/el0Oux2O263G4fDcZeg1ev12O12nE4nZrNZNSgTRj8mkwmn00lZWdnXFtBfhd+2ca1SdDYxNzfHJ598gtfrpb29nbKyMtXxhHhWv211k0h+15FCWvKNsJvwljxexFRtPp8nEomwurpKNpulp6eHd999l3feeYf6+np4wKBKIpF8M0ghLfnG0BUPAtlJMGgFxk7CY6drT4vfJo1T24ZNTU3s3buX1dVVPvnkE7a2tujr61OF9LOMth67vTMSye8iUkhLJI9IqYB+1gWGGNDU1dXx/e9/n+eee46RkRHee+89db86O9RLIpF880ghLZE8ImJ/tZZnWVDncjnW19cZHx+noqKCd999l7a2NiYnJ1leXoZnXECLKXsx2BBt/yyXWSJ5XEghLZE8JEIoKMWjI2OxGLFYTN3C9KySzWZZWFjg888/5/Tp00xPTwPQ1tZGbW1tafBnklwuRyKRUE8Cy+Vyz3SbSySPCymkJd96tFrwgzRig8GA3W4nnU5z8+ZNrly5wsrKymM7UOVJYDAYqKmpobm5mUQiwerqKh6Ph+9973vs2bMHvuE1/gehKAqRSITbt29z6dIl1tbWcLlc2O129b5E8ruK3CctkTwC0WiUoaEhxsbGMJlMVFRU0NfXR3d3NwaDQTUqe5YEntD84/E4iUQCRVGw2Ww4nU4sFktp8GeOQqFAIBBgeHhY9RPtcDg4fvy4OsiQSH5XkUJaInkEhMBLpVKqMBZ7uYU2+qwJaUrWdUvZ6dqzguie8vm86jbSYDBgNBoxm83fyD55ieRpIoW0RPIVEP82QigLnnUhrUWU8Vkrq5ad2lmcPia2Yj2L7S2RPC7kmrRE8oiUCrvfBnRFq2it1y/xeZYpLeNObf+s10Ei+TpITVoieUwIjU5qdhKJ5HEhNWmJRCKRSJ5RpCYtkUgkEskzitSkJRKJRCJ5RpFCWiKRSCSSZxQppCUSiUQieUaRQloikUgkkmcUKaQlEolEInlGkUJaIpFIJJJnFCmkJZLfIuSOSYnk24UU0hLJbxni7OrfRsQZ4tqPRCLZHSmkJZJdUBSFQqHwTAoSraD+bRd2v81ll0ieNPLEMYlkB/L5PLFYjEwmg8PhwGKxYDAYSoM9dRRFIZ1OE41GAbBarVitVoxGo3pe+LN6dri2XPl8nmQySSqVwmAwYLfbfyt8W0skTxsppCWSEhRFIR6Pc+fOHcbGxujt7eXEiRPfuBBRFIVIJMLs7Cxzc3NEo1FaW1s5fvw4TqeTQqFAPB4nFotRVlaG0+ksTeIbQ3QzOp2OXC6Hz+djamqKtbU19Ho9hw4dYu/evY/koESb5k6/JZLfBeR0t0RSgpjmDgQCXLhwgcHBQfL5vHr9SaMoCvl8nkKhoH4URSGZTDI6OsqlS5cIBAJEo1H8fr8qnHK5HAsLC5w/f56FhYW70nsaFAoFcrkcuVzuvnmGw2Fu3brF8PAw8Xicra0tQqGQWk/x2QnxDErv5/N5Nd/Se4+D+6V7v3sSyddFCmmJZAcsFgtNTU1UVlaqApoHaGmPs7PeKZ9wOMzQ0BB+v59Tp07xox/9iBMnTmCz2WAXAVZantLfO/FV65HJZFhcXGR4eJhIJFJ6W03X5/MxMjKCw+Hg3Xff5Xvf+x5dXV2lwR+abDbLysoKo6OjhEIheMh6Ch4lrETytJFCWgI7dPDid6nm+FU6NJHWV0Ebd6d0Ssutvb5TXcR17ffS8AB6vR6r1Yrdbkev1+8oNEvjs4NwLc1rpzYtRafTqemI7zqdjng8ztraGjqdjvr6elpbW2lvb8dkMqEoCkajkY6ODl577TXa29tRitPGO5Wp9Le2DXeLoy279reIG41GuXLlCr/5zW8IBAJqGC3ZbBa/38/m5iZ2u536+no6Ozupra1V89ytvbVo78diMW7evMnp06fxer07lk1QWtfStvgq7NReEsnjwvDv//2///elFyXfHhRFIZvNsrm5yfz8PIFAAJPJRDQaZXZ2Fq/Xi9lsxm633xVHCID7IYyvFhcX1U7ZbDaXBrsLbecZCoWYmZnB6/VSKBTwer3Mzs4Sj8exWq0YDAa2t7eZmZkhFAphs9nUa7OzsySTSdxuN7FYjLm5OVZWVlAUhe3tbebm5giFQhgMBhKJBHNzcywtLZHNZnE4HOj1era2thgcHMRkMtHe3s7S0hLLy8vkcjnsdjs6nY5CoUAsFmN5eZn5+Xl8Ph+pVEpdv/Z6vUxPTxONRkmlUszNzbGxsYHNZlM1YEEmk8Hn8zE/P8/y8jJbW1sAmM1m8vk8U1NTnDt3jmQySXNzM1arFZvNppYjmUyytrZGKBTC4XBgNpsJBALMzs4SCATI5XKsr6+zsLBAIpFQn6nf72dmZgafz0cmk8Hr9bKwsEA4HMZisWAymQgGg8zMzLC9va22j9/vZ3Z2lkwmg91uZ2Zmhg8++IDZ2Vlqa2vJ5/Po9XocDodax2AwyNWrVxkYGMBqtVJZWak+N/EOijqIgZJStBHY2NhgeXmZlZUVIpEIZrMZg8HA/Pw8n3zyCZOTk7hcLgBSqRThcJjFxUWy2SxOp5NMJsPS0hJra2uYzWaMRqNa9+3tbdLpNMvLy6yurmI0GrFarYRCIRYXF1leXsbv95PL5bBarej1enXQJN4Lv98PRWO+Z8HIUPK7gRTS33IKhQLb29uMj49z/fp1hoaGKBQKRKNRhoaGOH/+PEajkfb2dvT6uydeHiSkxRrpP/7jP3Lnzh26u7upqKiAohC+X/xCocD6+joffvgh586do1AosLGxwaVLlxgZGcHpdOLxeFhbW+Ojjz5iZGSEjo4OnE4n09PTvP/++8TjcQ4cOEAwGOTMmTN89tlnxGIxQqEQAwMDDAwMEI1G1Wnky5cvs7Kyok5zb21tcf36dSKRCDabjcnJSa5du8bs7CyVlZVUVVURiUTUtISAnZiYwGQyUVVVxeTkJO+99x5TU1NkMhlu3LjB9evX8Xg8NDU1qfVNp9OqEJ6ZmSEQCDA1NcXCwgJlZWWUlZUxOzvLl19+STwep6GhgaqqKtxuN3q9Xh3UnDt3jkuXLlFXV0dtbS1zc3N89NFH3LhxQ50WvnTpEtPT01RXV+N2u5mfn+ejjz7iypUrpNNpvF4vN27c4M6dO+j1eurq6vD7/Xz88ceMj4/T2dlJWVkZExMT/PrXvyadTtPR0cHi4iLnz58nFApRU1ODXq/H5XLd9cyDwSCDg4OMjo5is9moqanB6XSysbHB5cuXWVhYYH19ndHRUSKRCLW1taRSKQYGBhgeHsbv9zM6OqoOnmpra1lZWeHLL7/E5/NRXl6OXq9Hr9ezsrLCp59+SiqVoru7m0Qiwfnz57l8+TI1NTXU1tYyNTXFhx9+yO3bt8lkMty+fZsrV67gcDiw2+1cvXqVkZERNjc3mZqaYnl5Gbfbjdls5s6dO1y+fJn19XUWFxe5ffs22WyW5uZmdZB2v3dcInkY5HT3txyhuTqdTiwWC2NjYwwPD2OxWKitrWVhYYGhoSEymQwUBe/W1hY+n49cLgeaPbtCwxZpCuERjUaJRqN3TX3u1nlpr1utVtLpNIODgwQCATo6OmhubmZ0dJRr166hKApWq5VYLMbk5CSxWAy9Xk8+n2dlZUWdGhba+8zMDMvLy9TW1tLa2srs7Cyff/45kUiEzs5ObDYbAwMDTExMUCgU0Ol05PN54vE4JpOJvXv3Ultby7Vr17hw4YKqgX/22WekUimOHTtGa2srY2NjnD59mmg0isPhIBgMMjk5CUBzczNms5l0Oq3WUymu0549e5ahoSGam5s5duwYbrebS5cucf78edLpNLW1tdTV1dHY2Eh/fz+1tbXqwEmv12OxWNDr9aytrakzIna7nXg8zvj4OIlEgvb2dtxuN8PDwwwNDaEoCna7nVAoxOjoKIlEgp6eHrq7u1ldXeXTTz9lZWUFi8VCPB5XZzJEO6+trbG2tobBYKCuro6WlhY8Hg8HDx6kv7+fmpoatZ46nQ6Xy0VbWxstLS309vayf/9+MpkM586d486dO2rdcrkc58+fZ2pqikgkwtzcHNlslv3799PY2Mj09DSXL18mGo1SW1tLW1sbzc3NHDhwgIMHD9La2orJZGJtbY2VlRVyuRx6vZ5UKsXi4iKBQACj0YjNZiMcDjM9PU02m6WhoQGbzUYkEmFoaIgrV65gsVg4evQo1dXVDAwMcPHiRdbX1/nyyy8ZGBigsrKSI0eOqAMK8X8hkTwOpJD+lqPX63G73bS3t+NwOMjlctTW1tLV1UVNTQ1GoxG9Xo/JZEKn0xGLxRgYGFA1M+30dCkGg4GmpiZ+8pOf8Ad/8Ad3ddj3Q6TlcDioqamhsrKS7u5ujhw5wosvvkhNTY265mmz2VTtCY2wMpvNqsA3m81UVlZSUVFBa2srzz33HEePHsXj8ZDP52lpaeHkyZMcPXpUndpVimuXQvj09/dz8uRJXn/9daqqqpienmZ9fZ25uTkmJiZIp9Nks1kymQyJRIKFhQVCoRAul0sVrvv27eO73/0u/+yf/TN6enrU+ubzeTY2NpienqaqqooXXniBAwcOcPjwYVVjDYVCOJ1OXC4XlZWVtLS0UFFRgV6zfmuxWKiqqsLhcKAoCnq9nrKyMqqqqqirq2PPnj08//zzHD9+HIfDwebmptrODocDt9tNb28vx44d4+WXX6azs5Pl5WXW1tawWq2Ul5er07h6vR6z2YzZbEYpzoqUlZWp7dzW1kZbWxsulwtdcc1Wr9djs9moqKjA5XJRV1dHc3OzOpMRCATI5/MkEgkURVGnt51OJydOnODll1+mu7tb1eR9Ph+JRIKysjLcbjdut5vW1la6urrweDxUVFRgtVrVdhZCWQxmDAYDLpeLmpoaPB4Pe/fu5a233uJnP/sZ7e3tTExMqEsgyWSSfD6P3+9ncnKSRCKBXq8nEomwurqKwWBQ3yGHw6HWWSL5ukgh/S1Hp9NhNBrJ5/N4vV7sdjv9/f2YzWbW19dJpVI0NjZiMplIp9Nsbm6yvb2NXjPFur29TSaTIRKJsLm5qWqJQnN67rnnOHbs2EPt29UKe6GVO51Oqqqq1E7W5XJhNBrVcGL7jdDUdcW9tmIbk7gmhLXdbsdgMGCz2dTO3WQy4XA41DVQ0cEaDAYqKiqorKzEYDDgdrvxeDyk02m2t7eJRqNks1lVywwEAvT19fH888+ra75CWLrdbqqrq9m7dy8ej0etnxBM6XQat9utls/tdlNTU0MikSCRSNxTt9KBkRhYiPIriqJuS7Lb7TidTgzFg0NMJhP5fP4uQWK1WnE6nepAx+12UygU1LwLJYZj4iPyFGFKt2CJcNr72WyWXC5HPp9XZ1pyuRx+v5/5+XksFgvHjh2jqakJu91ObW0t8XicW7ducefOHba3t9V0RB75fP6egaNoC71eT6FQIJ/PQ/GZiDD64rS8y+WiqqqKvr4+Kisr1We7vb3N9PS0unzS399PfX09r7zyCkePHmVqaop/+Id/YGBgAACTyaSmLZF8XaSQlqAUp6Q3NzdpbGykpaWFRCLBysoKZWVldHZ2oigK4XCYO3fu4Pf7aW1tJRgMcvnyZT755BN1Xfajjz5icHBQ7TzT6TTr6+t4vV712oMo1UB20kr0xXVH0Tknk0kymQyFQoF0Ok0qlbqrk94NkY5A5CXiCCEkfudyOZLJJBaLRRWmDoeDrq4uTp48yZtvvsnPfvYzfvSjH+HxeNDpdBgMBvWjKw6KtOmL/HK5HIlEQm2nXC5HOp3GarWqMwMGgwGj0ahqtDsJAm0dRJ4inLgu2kZ7rVTYZrNZdDqdKnTEYEQIQjFzoM1HxNOmT4nAFHXXFYWnwWDAbDbT0NDA888/zyuvvML3v/99/uk//af09/fj8/k4c+aMakOQTqdJp9N3DVTEe6AdRFA0xkskEuq9dDqtvifaMug1MxLacrndbvbv388LL7zA22+/zZ/8yZ/wzjvv4HQ6qa+v53vf+x4/+MEPcLlcXLlyhWvXrhGPx3d8LhLJV0EK6W85osPe2tpic3OTpqYmysvLSafT+P1+jEYjRqORQCBANptlY2ODpaUl9Hq9ak18+fJlLl++TDAYZGJiQu2ohHb+3nvv8Ytf/EKdXn1Y8sX14FgsRjKZpFC0YI5EIuqRnUK7jkQijI2NsbCwwOzsLBsbG8RiMVKplCrExTGUQovLZDKk02lVC0+lUiSTSVUA6HQ6stksXq+XpaWluyylW1paaG5upq6uDpPJhM/nI5vNYjAYSCaTRKNRVbOLx+OqplwqvISAq6qqoqqqirW1NbX8U1NThMNhenp6qKqqIpVKEQwGicVid2mQAlGHeDxOPB4nk8moQiqVSpHJZFAUhUwmQyqVUq8JDTMSieDz+QgEAiwuLrK2tkZ9fT2NjY0YDAZ1KWBycpKlpSXm5+fZ2NhQLdeNRiNms5lgMMj09DSLi4vq4EwIQPEsRHsUCgWqqqqorq4mGAyyvb2tTlEnEglisRhTU1OcP3+era0tamtr8Xg8mM1mdf1XDIACgQAzMzPMz8/j9XrVAc3S0hKTk5MsLy+rOw1isZj6DsRiMVX4F4qzBWVlZXg8HrLFnQ/iOaVSKRKJBF6vl8uXL7O8vMy+ffs4duwYJpPprpkkieRxIIX0txyhgSSTSUwmk2rYZDQaqaysRKfTMT8/z+bmJiaTCafTSXV1NeXl5VRUVODxeMjlcrhcLnp6enC5XKowUBSFRCLB/Py8uiVK5Hk/lKL2Go1GCYVC5PN5tra2VAGdTqeJx+Osr69js9nYv38/LS0t3L59m5s3bxIOhykvLyeRSLC6ukokEiEYDKpTq6FQSBVi2WxWFXyBQIBkMkk4HFa3H9XV1ZHL5fjyyy85e/Yso6OjdHZ28uKLL1JeXk5vby/PP/88KysrfPjhh5w9e5arV68yPz9PPB5ne3ubYDBIJBJhY2ODXNGoSLSB6PwbGxt56aWXcLlcXLt2jfPnzzM5OUlbWxsvvPCCaoAWi8VIJBJsbm7epeEDJJNJQqGQel+bdzqdVuOHQiFVeIu1faW4NW14eJgLFy6oW6TEnmu73c6+fftobm5mcHCQGzduEA6HsdvtRKNR9Vns2bMHt9vNtWvXGBgYwO/3qwMegHg8TiAQIFXcIhWJRKivr+fEiROYzWbOnTvHp59+yoULF5iYmCAWi2G1WikrK1Mt3pPJJNXV1RgMBqLRKDabje7ubpxOJ0NDQwwMDLCxsYHb7ebgwYMUCgUuX77MzMwMOp0Oq9VKIBAgEAgQiUSIRqPq8xczA+Xl5Rw5coT29nZGRkb4+OOPOXv2LLdu3cLn85FMJllaWuLChQucP39e3RXQ29t715YzieTrIrdgSaCo4VRUVNDf309lZaW6jlpZWUl9fT3Nzc0ADA0N4XK5OHbsGHq9nunpaVZWVnj99dexWCxcv36djo4ODh8+rGo4drudnp4eent71X29uyHuKcVjMBVFoa2tja6uLnXvrd1up6Ojg6amJqqrq6moqKCurg632019fT0dHR2qBXF9fT1Wq5V8Pq8axHk8HrVs7e3tdHR04HK5yGazVFRU0NPTQ2Njo2pM1dzcjL14qEldXR0nTpygt7cXs9lMWVkZTU1NuIvbclwuF42NjXR0dKgzEhaLhfb2dlpaWqisrLxrPV1gsVioqamhuroas9mMyWSivr6eY8eO0d3djdFoJJVK4XA41Pq5i9uvRHuJWYGamho6OjruqmdraysdHR243W6yxX3DnZ2d6nO9ffs2Pp+P/v5+qqurcTqdHD58mMOHD1NRUaEO2sSWqbq6OrUcra2t6ra1iooKampqcLlc1NfX09bWRllZmfpchXZfXV1NV1cX9fX1lJeXU1dXR0NDA/aio43q6mo6OjpobGykurqaqqoq1Qiuvb2dtrY2tZ1ra2vVQWNFRQWNjY00NzdTU1NDXV0dVVVVVFRU0NzcTGdnpzoLUlNTg8FgwGq10tLSQltbG1VVVZhMJnWd2uPxUF5erhootrS00NraitvtVrfGCaO6/fv3c+DAAdxuN7odlmgkkq+CdLDxLUc8fjEFLLRoRbPmqC9ad8/NzfG3f/u3NDU18YMf/IBcLsc//uM/4vP5+NM//VMWFhb4+c9/zj/5J/+Et99+WzVUEtN/wqr2YRD5p1IpKBrjWCwW8vm8mp4QZhTLL8oqDOEKhQKmolV6JpMhl8up6YhBgK5oUGY0GtXpbxFGV1wnLhSNnfL5vHpPWw+xDpstrsWazWY1D6Gt64pr0WazGX1xLV2LrrjsINLJ5/MYimu1huL6szYPS/GQES25oiFVvniIiLm49UzbXgaDQZ3mFde8Xi9//dd/zfT0NH/2Z3/GoUOHUIqW8yIPUV7RjuKdyOfzarsYDAaU4sxMprgUIaauRXwxmMjn8xiNRjWeKL/2nrV4aIhSNIDTvkeibS1FS/5CoUAmk1Hjmotr+KIshUIBY3GnQra4VGAuWqaLZ6yNp2iM4kSbijim4glvueI55dp7Ir5E8riQQvpbzk6Pf6dOJl888eq//Jf/QllZGW+88QZlZWV8+OGH2O12/sW/+BeMjIzw93//9xw5coTXX3+dpqYmtUPbKc3dEOFFR6kViKK8O6V3v3sCbVm04UVe4rf2rwhbel97T1y/X11L09vpnva6yFP3iFpZaRm0v7X5KEWBOjExwV/8xV+wsrLCf//f//e89NJLdwlPEX4nSvPRft8pz93ul6Yv7hU0Bl6C0vrtlH5pmuJ7abyd2ri0LOLa/crADu+FRPI4eDi1RvKtYbeORq/XU19fz+uvv87hw4fVKchTp07x8ssvY7fb6ezs5Ic//CF79uzB5XLd1ck/LKUdq+ikvwo7dbY7IcI9bHgtOo118KMghIJWOIjrWgwGA3qN5bGW0jR2CrMT2nrmcjmi0Sgmk4ny8nLVgKq0LXbLQwi5UkEnKP29EzsJUIFo2/u1kaD0+oN+l9ZRy271Fex2XSJ53EhNWvLQiClFRVHUadBC8cAPg8GgTg0WCoV7poQfFm2HXShuCfoqwv5R2O1fYLeOWAilB9VPCK5nmWzRel2ccd3U1ERbW9sTm7YtbRNt2z+J/L4KpWXciYcJI5E8DqSQljwS2s6pUCjcI6jupxU9DF9XSD9s57nba18av1Sg6HaZIv2mKC3vV0HbFtr0vm66O7Fbu2vZLd+vU9evE3cnvu57LpE8LFJISx6JB3V2X7fz0sZ/UkL6fq/8TvHF753ilYZ9miiag1ZKB0uPgqiXqLv4/XXS3Ants92pLUvRtrt4F0RdH6bdHyaPx8XDlEci+So83v9Cye88D+qMdM+Advk4eVbr8nUHQ/fjaTxDkcf98lFKjPUeFP6b5GkOCCTfLqQmLXmmKNW2lIdY+31UHvaVz2azhEIh0uk0TqdTPddayzchNJTi9rFgMEgmk8HlclFeXr7j/uuvitBaHyelA4uHfQ7i4JNMJqM6GXmY2ZX7pf8k6ve405NIkEJashNPogN7WHbqyO9Xlgfd34nSPEqvC8LhMFeuXGFiYoKDBw9y6tQprFbrPfEela9SZi2RSISJiQlmZmbY2tqiubmZ1157TfXb/HXS3q1tvi5fJd1C0de58KsdCoVob2/nxRdfxO12lwa/C21+isaGQIu49yAetuwPui+RfBUer4oi+Z2gtLN5mI7s6/BV0ldKvC+VXtf+1n4Xn53QDgyU4lp4KpXi1q1bjI6Oquu/u1GadynivvjshLaMO5U1lUoxMTHB5cuXSSaTOJ1O9Qxrbdl2ilvKbnmgseRPFl00lpZppzhatGFKwyvFg0DE+d27kUwmGR4e5vLly6RSKaxWK8miI5WvSqF4vrnYpbBbGbWIe6XPvjTObmntlq5E8jBIIS3ZEaXEWOdJUdqB7ZSXVhiLDrC047yf4CulNA9teuJ3oVDAZrPR3NxMWVnZXc4XxP2d0ij9Ln5r66AdDOxEaVxtutFolOHhYdbW1ujv7+f73/8+r7zyiuoGVKs5io82b226pSia9kwkEoyPj3Pr1i0ikYh6X5ue+C5Odysta2ke2jJtbm5y48YNpqendwxXKBQIh8OMj48TCoV47rnn+P73v88LL7yAy+W6J7w2jd2+AwSDQQYGBhgZGVGFvbZcpXHFc9YXTz7b7X4pu7ULO5RXIrkfUkhLoNhxlHYq2iMPnxRCqOzW2aEpmzi+UZRPrA+LchaKmq6uaBkuNECRhlZYFTQCV3y0aQgLYqPRqB4Rqg0j0hQfbVl3+i3y0grR3dC2SWm4cDjM4uIiuVwOt9tNVVWVej65FpGGaBtteoXiMaeirmjaQ9Rte3ubCxcucPbsWba2tu5pT21Ypdgu4qNtV4G2vfP5PHNzc/z6179maGjonuM1RRlDoRBerxeA8vJyampq8Hg86rGg2jg7Dby0ZRHvxOrqKmfOnOH69euqn2xtfO0ASlsHbXrit/iujVfaLiJvUd5s8fhdbVyJ5H5IBxvfcpTiGchra2sMDw/j9XpVL0Hj4+MsLS1hKnq/Ku0IHxXR4WnTSSQSTE5OMjs7i81mw263q2Hy+Tx+v59bt26xsrJCPp9neXlZ1a6cTidGoxGfz8fQ0BB+v19dl11eXmZ0dJRMJkN5eTmhUIg7d+4wPz9PLpfD6/UyOjqK3+9Hr9cTDAYZHh5menqaXNGrl16vZ319ncHBQcxmM42NjUxNTTE9PU2hUFDzLxQKBAIBJiYmmJqaYmVlhUQiodZlaWmJkZER1QvV2NgYKysr2O127Hb7XR288K40OTnJ4uIiGxsb5ItORQqFApOTk3z22Wdsb2/j8Xiw2WyUlZXdZTSWyWTwer3quvX6+jqpVEo9YGZlZYXbt28TiUSorKwkl8sxPz/PxMQEOp0Oi8XCyMgIv/rVr1heXlZnEpLJJBsbG4yOjhIKhYjFYkxOTjI3N0cymcThcKAoCvPz84yMjJDL5aisrFTdTS4uLmK1WslkMpw/f57PPvsMAJvNRiwWw2azqWv+6XSa8fFxzp8/z/b2NpWVlZSVlWG32wmFQkxOTjI+Ps7y8jKJREL1uZ1KpfD7/czPzzM5OcnCwgLpdJqysjKSySTXrl3j7NmzxONxLBaL6vJ0fn6ehYUFHA4HVquVzc1NJiYmCIfDOJ1OkskkY2NjzM7OkkqlWFtb486dO8RiMSoqKshkMiwuLqptHggEMJvN2O12crmc6np0YmKCxcVFIpEIFovlgQ5nJBIppL/lFAoF1UfwzZs3uXXrFoVCQRWe58+fR1EUent7H3p/6oPQaiuBQIAPPviACxcu0NHRQUNDw12az/r6Or/85S+5ePEidrudQCDAlStXGBoaoqamhsbGRtbX1/nVr37F5OQkhw4dwmw2Mzo6yieffEImk6G3t5dwOMwXX3zB6dOnVZ/AN2/e5Nq1a4TDYeLxODMzM1y7dg2v10tLSwsulwuv18v169eJRqO4XC6Wl5e5du0aCwsL1NbWUllZydbWFleuXOHOnTvkcjlWV1cZHR3FUvTmNDU1xQcffMD09DT5fJ7BwUEGBwdpbm6mqalJ1bgSiQRDQ0OcO3cOn89HKpVibGyMubk53G43FRUVrK2tcePGDRKJBO3t7Xg8nrs8a2WzWebn5zl37hyzs7Ok02mWlpZUAezxeFhYWOD9999na2uL/fv3A3Dz5k0+//xzysrKaG1tZXFxkVu3bpHJZGhsbFSdbczOzvIP//APrK2tYSo6Xblx4wYzMzPqUbG3b9/m17/+NXq9nr179xKLxbhw4QJXr16loaEBl8vFyMgIY2NjuN1u1T90TU0NNpsNirMji4uL3Lx5k1QqRWtrKw0NDQAMDAxw+/ZtEokEa2trjI2NYSj65J6fn+fixYtsbGywvb3NwMAAS0tL1NfX43A4mJiYYHh4GKPRSG1trXqy2rVr1/jyyy9pbW3F4/GwtLTEp59+yvr6Oh0dHeTzec6ePcvnn39OLBbD7/dz5swZtre36ezsZHFxkUuXLhEIBAiFQkxMTBAKhaivrycUCnHx4kUmJydJJpPMzc0xOzurem0r3TEgkWiRb4cEo9FIfX09lZWVqu9n4e5wa2uL6elp1XOQQDsVqL22E9rr+XxePTpUXLdarTgcjnu8Oun1epxOJxaLBZ/Ph9Fo5MCBA3R3d7O4uKhOldrtdhRFwe/3k81m0Rc9YUUiEba3twEoKyvD5XLh8/mIx+P09vayZ88evF4vly9fxmQy8fzzz9PQ0MDIyAgLCwtqOURZ6+vreeGFF9izZw+jo6NcvnyZYDDInTt3OH36NA6HgxdffJGenh4WFxe5cOECqVRK9W29vr5ORUUFhw4dorGx8a76FgoF1tbW+PTTT5mbm+PQoUO8+OKLNDY2cuvWLc6dO0c6naa2tpbW1lba2to4ePAgLS0td6UTCoW4dOkSt27doq2tjVdeeYX9+/ezvLzMp59+yubmJjabjUQioU5jG41Gtb1CoRCmol/x7u5uOjo6OH78OMeOHaOrqwun08nm5iZ+v5+GhgZeeOEFurq6GB0d5dKlS+TzeRwOB7FYjO3tbQpFT2QAm5ubRCIRysvLaW9vV/0vnzp1in379qnr6krx2FmPx0NzczMdHR0899xz1NTUMD4+zhdffIGiKLzwwgv09vYyNzfH559/js/nU/1tt7a28tJLL9Hc3Mzw8DDj4+PY7Xba2tpobm6mq6uLU6dOcejQIVVQitkBfdHDVzKZJBAIkM1m1VmeYDBIMpmku7ub/fv343a7WVtb48yZM8zPz7N3715OnDgBwMWLF5mammJjY4Pr168TDAY5dOgQx48fp7a2Vn3uEsn9kEL6W45er6e8vJyGhgb0ej2FQkH1PexwOCgUCtjtdtWbFTsI450EthahFYdCIaanpwmFQuo9l8vF22+/zb/4F/+ClpYWdMU1ZaFNm0wm3G43dXV19PT00NPTw4EDB6ipqVH3zpqLfp1FGfV6verKUfw2mUx3+SPes2cPe/bswe12oygKLS0t9Pf3s2/fPvL5PJFIRC2LmOret28fBw4c4MSJE5SXlzMzM8Pm5ibz8/OMj48TjUZZXl5mY2ODbDZLIBAgHo+rfqkbGxvZv38/r7/+Or//+79PR0cHheIaZj6fZ21tjZmZGaqqqjh48CCdnZ0cOHAAnU7H0NDQXVOkZWVlVFdXU1ZWBppnIqbts9kshw8fpquri76+PlU7XF9fx2w237WVTNTRXHT5qNPpsNvtOBwObDYb1dXVqo9oh8OB3W6ntraWvXv3cvDgQY4ePYrVamV+fl7dyyw04tLnQXFQaLfbsdlsqiYtfFYL9Hq9KhjFc9PpdCwsLDAzM0MoFGJtbY3NzU0SiQRer5d4PE53dzdvvvkme/bsoaKiArfbTTweZ2trS62X1WrF6XTi8XioqamhrKzsLrecuhK3ohRdpTqdTiorK2lra+PYsWP8wR/8AW+//TaJREJdOvH7/ayurhKLxQiFQmxvb2Muui5dWVlhZGQEo9HI8ePH6erqeqj93pJvN1JIS9DpdKRSKdbX1ykvL6e/vx9FUVhZWSGbzd6l9RUKBSKRiDplFwwG1enx1dVV1tbWyBR9Dm9vb+Pz+dRDQb788kt+8YtfcOPGDTY2NlQtuLu7m/7+/h33vooBgMViwW63oy/6SS5dyxPhhCGR0H61n3w+j8ViweFwYDAYVCFs0viPNhd9LgsNR3TYTqdTNc6y2+3qOmU6nSaRSKjGT5ubmxQKBZ5//nleeuklHA4H+aJvaKfTqQqdtrY2tb5K0QgpnU6Ty+VwOByqgBDCLJlMksvl1LDiIxBtkclkiEajUJyhoOh/2e12o9fr1S1POo1xmogr0typ3QQijMViUf09i/Vg7bYmMfAQeWk/4p5IK6/Z4qVtd5G38Oecy+VIpVJquO3tbRRF4eTJk7zxxhuqoE+n00xMTHD9+nVGR0cJh8N3pautB5r2z+1gvCbKKcpiMBiwF20JGhoaaGlpgeL0vNFoJBqNEgqFaGpq4o033qC9vZ3W1la++93v0tHRweDgIB9++CETExPki36/JZL7Id8Qiao5iinM+vp6EokECwsL6hSh6LT8fj+XLl3izJkznD59mvPnz7O+vs7S0hKfffYZn376KX6/n1gsxrVr17h69SqJRAK/38/Fixe5cePGXQY4mUyGubk5RkdHiUQiKCUauejYtdeF1y29Xq9qIoWi0VUqlSKfzxOPx0mlUup9IWy1cfQaN4jir0gXjeDX6XSqoFAURTWicrlc6mDBbrfT09PDSy+9xJtvvskPf/hDXnnlFSoqKu7Kp1RzEnkbDAZVk41Go2SzWZSiUZ+iKFRWVmKxWKBYf6PReNdAQyA0wFQqRSwWg+I6dSKRUDVYiu2VTqfV9kokEiSTSTVNbRgxOBB/hcAUQk60i91ux2AwqGHj8TjJZJJsNkssFlMFrFZYJzX7sIWA1FL6bEwmEzabjY6ODl566SXeeOMN/uAP/oB3330Xu93O1atX+fjjj/H7/eoSilLU5sXzF4JfvFOiHplMRi2jaD8RV+Qv3g/xTor7BoOBuro6jh8/zquvvsr3v/99vv/979PW1kY+n6ejo4Pf//3f55133kGn03H+/HkmJyd3rLNEokUK6W85uqIV9cbGBj6fj6amJhwOB8lkUl2zzGazrK2tEQgEuHHjBkNDQ1RVVeFwOLh69SpDQ0OkUikCgQDDw8MEAgECgQC3bt1iY2ND7RwVRaGrq4uTJ0+q2nkoFOLjjz/m5z//uboOLDpPigImGAyqltFCAEejUWKxGMlkUp2KjEQiDA4OMj09zdzcHD6fT11nTKfThEIh1Ugsl8upwjadTqvCKBwOEw6HiUQi6jp8KpViZWWFmZkZlpeXmZycJJvNsnfvXqqrq2lqaqK8vJypqSnW19cJBoMsLS3h9/vJZDLEYjGCwaBaFq1gFd+NRiM1NTXU19fj9XpVS/SJiQkMBgNHjx7F6XSSSCQIBoOEw2GSyaTaXkLQuFwuurq6yBcN1Obm5piYmGBzc5OOjg7q6+sxm804HA68Xi8DAwNMTk4yPT2Nz+dT6y2mxL1eL4ODg4yNjbG8vKxql16vl5mZGWZmZlTDrb6+PlXzt1qtqiHe+Pg4s7OzBAIBwuEw2WwWh8OB0WhkdnaWW7duMTs7SygUUgdIheLsTCQSUQdcFouFhoYGrFYrCwsLrKysEAgEWF1dxe/3EwwGGRoaYnh4WG0Lp9OpavliaQRgbm6OwcFBJicnVQvuVCqlxhdW+qKdc7kcsVhMfT9SqRQUB3q1tbXU1tbi8/mYnZ1la2uLjY0N1tfXCYVCTE1Ncf78eYLBIG1tbapxZLrot1v7vkskpUjrbgm5XI7l5WVWV1c5fvw43d3dpNNp1tfXCYfDVFdX43Q6CQaDnD9/nvr6et555x2MRiMDAwO4XC76+/tZXV0lEAhw4sQJAoEAAwMD7Nu3j3379hEMBpmenqavr4+3336bqqoqTCYT0WiUwcFB/H4/Bw8eVC14haa1sbHBrVu3SCaT9Pb2UldXx+LiIqOjo9hsNnXtEWBra4utrS0MBgO5XI5IJILZbKarqwuAO3fusLGxQUtLCy0tLfh8PsbHxzGZTOzbtw+73c7w8DCLi4u0tLTQ29tLLpdjbW1N1aRXV1fZ2NigubmZl156Sd0GpSgKa2tragcdKm4RKy8vV7dg6fV6Ojs7qaurU4WRqKtOsy4sjK4CgQCbm5u0tLTw6quvUl5ezvLyMkNDQyiKQl9fH/X19arAR7PeKwZNwWAQr9eL0+nk1KlT9PT0YDabyRW3BW1vb2M0GlXNsby8nI6ODtxuN+l0mtXVVaLRKIbiNG8ymVRPOxPl2djYoKOjg1deeQWPx4Ner1fXiWOxGAaDQRWSHo+H9vZ2bDYboeI+6EQioa59l5WVoRRnEBYWFhgdHUWn09HX16dameeKW+i8Xq/a1jabjYqKCkKhEH6/H4ozDmKQWV1dTXd3Nw6Hg1AopG5LMxgM1NbW4nK5CAQC+P1+dZYgHo9jMBhobW3FZrMxPj7OysoKtbW1tLW1qcsmYr19e3ub9fV11bCuUChQWVlJNBplZGQEr9dLIBAgmUzS2dnJoUOH1HdXvAcSSSny7O5vMUpx6jGXy7G+vs7q6irt7e3U1dWRyWRYWVlhZWWFqqoq6urqGB4e5sMPP+RHP/oRJ0+e5OLFi/zmN7/hrbfe4siRI/zd3/0diUSCP/mTP+HKlStcunSJP/mTP6G/v5+BgQE+/vhj3njjDV599VUoCpREIsHMzIxqcV1VVaWWK1/cJz0+Pk4mk6Gzs5OmpibW19eZnp5WhXR1dTXJ4tYWv99PVVUVbrcbf9Hau6urC6vVyvT0NIFAgObmZtrb29ne3mZychKAnp4eKisrmZ2dZX19ncbGRvbs2UM+n2dxcZF4PE42myWVSuFwOGhqasLj8WAymchkMmxtbbG0tEQ8HsdkMlFZWUljYyN2u5319XVmZ2cxGAx0dnbS0tKCcQdnGIXiKVsrKytsbm6i1+txOBx4PB48Hg86nQ6v18vk5CSFQoE9e/bQ3NysTjFTfKbpdJq1tTV1cGG1Wqmrq1O3ISmKop6JHQ6HaWxsVC3oDQYDPT09VFVVsb29rT6b2tpa6uvrGR0d5X/9X/9XGhoa+Gf/7J+hFKe5m5qaqKurw2QykcvlVK0ynU7T0NCAwWDA7/fjdDrp7u7GYrGwurrK3NwcBoOB9vZ2GhoasGgOKlldXWVmZkYV0kID3dzcZGlpiVAohNFoVNva5XKxtbXF3NwcmUxG3dK1tbWF2Wymu7ubsrIy1tfXmZubA6ChoYHm5mZ0Oh2Li4usrq5it9uprq4mHo8TiURobGzE7XarA5Kamhq6urpwu93qQCASibC4uIjP50On091lmJZKpVhcXCQYDAKo749oL56AW1DJ7w5SSH+L0T56MV0qpqXFqF67Xnf16lV+/etf88orr9DW1saFCxdIJpP8/u//Pnq9np///OeYTCbefPNNzpw5w+LiIn/8x39MV1cXQ0NDfPLJJ7z99tscPnwYh8NBRUUFimaqtlS7FPfyGgMb0Snm83lVA9UV1wtF505xACDiizVEsaZqKK67inREuoaiBq5o1jAVzXRkrmhYZCxuWdJqPtqyivREHURZBQbNuvdO5ItrvmjKJRDpiTKKfLT30RhG5XI5DMU1bG04ivkUCgW1PKW/tenoimvDFy5c4H/73/43Dh8+zP/wP/wPGItr46KtKDH6yheNrUT6FJ8NxbJqn5d498S9gmabnqireB7adiiNK8osnrsIL37rigNApfguaOuqbVsRV1sn8a6K9tA+x9L4O6UtyiWeh2jb0mcjkQh27ykk3xpKOxxtpyGum81m2tra6OvrY35+nps3b2IymdS9vDabjfr6ejKZDD6fj+rqasrLy/H7/aRSKSorKykvL2dhYYHV1dW7DHdKBREaYWMoGguJTk+UVQhKcU10xCK8qIO2EzUajeo9bdomk0kVHELg6DWDFRHeZDJhtVrvEkgCEVakJfIVZRV1FPncD5GOsDQvvSfqLgRJ6X2tULJYLGqeoi7io20rNGXVvgfi+euKOwD8fr96YEckElGFTWl7aNMXz0i0gzaMuK+9po2/Uz1FW2vfDW18EU+0uTYdEV9c06Yryiji7pSWeL7a9ASi/UQYbdpo3jfxPCj5X5NIdkJq0t9yRIcnXoPSzlBLJpNhdXWVlZUVDMW1vIaGBtXoZn5+ns3NTXWddGNjg6qqKpqamsjlcszMzJDJZGhtbaW2thar1armL/LbqcMSQkd0aNrflAgmNBq59tpO6aLJU1fUarTslp/2vkAbRpum9h4POa1Zml9pPtq/O6Un4peWebewpd9Lyy60vVAoxCeffMInn3xCZ2cnf/AHf0BfX58qyAWl9S5tR71G66WoZWrzLEWryaNJVxtP21Y75bvTPYE2zE7XtPURf0vTFuG0mnZpXG162vwlkvshhbTkoRAdk6LZKmMsapSicxJTeaIT1k45ijTE9Kf2mrbDKu30dgqz07Wd4mnvlV7biZ3+Fe5XhkflcaTxTZJIJFSLarFPuLq6WhU6WiH0IHZq653YKa3d4u4U9klT+ky1bVB6TyL5KkghLVFRHlLj20kgiri7xdvp/pN69b5qx7hTeR5FSIs6CqH1TfIw5eUBZS5NQ7RPabhHYac2vh86jXaq1cC/ThkeJ/dro9J7EslXYeceVSK5D6JD13ZAupL13534bemwdqvfo/KoAkmLojFSEr8fha9S3lJK0yhtk6+Ctm13+jyIhw33tLhfWe53TyJ5WKQmLYHiul8sFlO3EDmLji1KedY0mWeFbDZLNBolk8lgL557rZ3qfxh2+lcU8Z+EVpbNZtVTwex2O+Xl5aVBvlEKxRPJotEoJpMJl8uFqcQJy6Mg313JbyNSSEtQFIVsNsvU1BQXL15Ep9Px3e9+l/b29rs6tNJXRXZ2/x/RaJRbt24xPDxMd3c3L730kur84kEoOxgzpdNp/H4/Op1O3Wf8OFEUhUgkwtDQEDdv3qS7u5vvfve7mM3me8qyGw8b7quifSdtNhvf+c53aGxsRLnPsoqWfD5POBwmFovhdrtxPgaf6BLJ0+bBb7rkdx6d5vzohYUFrly5QiQSAc25zEJAKyXTsE8Tkbe2PKX3xKf0Xmkddouvvb7btZ3KodfricfjXL9+XfWBrGj28mopLUsulyNbdN8prgUCAU6fPs0XX3yhOsXQxinNX5uu9lNafm1YvV5PLBbj4sWLXLt2Td0jLtqwNN7D5quNW3qvNG5pGqXpZ7NZxsbGuHjxIpubmzvGFZTmkUqlGBkZ4cyZM6yurqrpl7JTmXZ7lySSp40U0hIoWmpXVFRQXl6O0+mkqqoKdtCWdc/YmuBO3E/734mdwux0bSdEXmazmYqKCmw2210C935tpRRPB5ufn+f27duq9yqleEBHeXk5LpfrvmnsxsPEsVqtVFdXYzQa1XPAH5ad3oPS31pK72kF405trRQHEW63G7fbTV5zwMvDotPp1ONChZezh0WELX2XdiqrRPIkkUJaApr1v0gkQm1tLZWVlSjF6cxSjWKnDvppUqptoSmTKLOW3Tpc8VfEEfHF9UJxC5k2vEijNH+K2rTYXlZaNoH2uqIohMNhrly5wmeffYbP51O12crKSl577TVefvnlHaegRfnENa32Wlr/3dBrDlopvf5Vn7GIt9Oz0D6HB6UtwuiLvsBLyygofV7a99RsNrN3715effVVGhsboVi3QvH0L/FhhzZ71LaUSJ4U0sGGBIrTivPz81y/fp3e3l4OHTrE0tISN27cwOv1qhrd9PQ08/PzlJWVqf6KnzSKohCPx5mbm1PdXG5tbWG1WlWnD8Ld5fz8PIFAAFPRpWEul1MdXEQiEVKpFBMTE8zMzKAoCmVlZaRSKSYnJxkaGiIcDuNyucjn82qamUwGl8tFJpNhcXGR8fFxZmZmVOcUoh2ExyiHw8Fzzz1HOp1mdHSUjY0NnE4nBoOBjY0NJicnSSQSWCwWJicn+eUvf8nU1BQ2m41EIkE2myUcDjM7O0uhUKCqqgq9Xk8ul8Pv9zM6OsrU1BRer5dcLofNZlPzHxkZYXNzU32eExMTpNNpnE7nXfvahRDyer1cvHgRp9PJa6+9RiQS4datW0xPT5PNZlXXll6vl7GxMWZmZggEAhiKjiWi0ShjY2PMz8+TzWZZX19nZGSEUChENptlcnKSjY0N8sUz0MfHx4lGozgcDtUwMZ1Os7KywujoKHNzc0SjUSwWi+qEY3BwkFAoxPPPP3+XAxaKgxPhaWpkZIS5uTmCwSAGg4FkMsn8/DzBYBCn04miKMzOznLnzh1mZ2dZXFxkenpaPZzH6XSSzWZZXV1V37Pt7W1MJhN2u/2hBhcSyeNGCmkJAMlkkqGhIaampnjxxRepq6vj7Nmz/PrXv0ZRFHp6esjlcvzyl7/k3Llz9PX1UVtbe4+29LhRFIVQKMS1a9e4du0a29vbzM7Oqt636urquHnzJl988QU+n49gMMjY2BgbGxtUVlZis9kYGRnhvffeY3p6mlwux/T0NJcvX8br9dLU1ITRaOSLL77gF7/4BYVCgb1796LT6bh+/Tqff/455eXleDwe7ty5w7lz51hbW2N7e5vR0VHW19eprKzE7XarQtput3Ps2DHC4TAfffQRo6Oj9PT04HQ6mZmZ4eOPPyYUCtHR0cHGxgZffvklwWAQj8eD2WzGZrPh9Xp57733CAaD9Pf3o9frWVhY4Ny5c0xNTRGLxZifn2d8fByj0Uh1dTWrq6v86le/4saNG+j1elZXV7l48SIzMzPU1NRQW1urChqtkL506RLl5eW8/PLLTE9P88tf/pKVlRU8Hg9VVVWsrKxw6dIlFhYWVKckfr+f6upqcrkcZ86c4bPPPlP9hp85c4atrS3Kyso4d+4c165dA2BtbY0LFy4wPj5OZWUlHo9HXTf+8ssvWV9fx+fzMTY2RiwWw+PxkE6nuX37NpFIhOeff17ViMU7FwgEuHTpEjdv3iQUCjE3N8f4+LjqCvPs2bMMDQ2pxndnz57lxo0bFAoF1tbW+OKLL5ienqalpYXa2lqmp6e5dOmSemjLxMQEoVCIuro6dcDyJN93iaQUOd0tQSka2ayurpJOp3E4HMzNzREIBNi/fz/Hjx9XXeqJKdKn1VFlMhmmpqY4d+4chUKBl156iePHj+NyuUgmk6ysrPDJJ5+wubnJyZMnOXXqFJWVlZw7d46rV6+i1+txuVyqULNYLPT391NdXc3t27dVb1o1NTWk02mCwSC6ogOGdDqtenjy+/385je/YX19naNHj3Lq1CkqKio4d+4cX375Jdls9i7hp9fr1WNPxfnlRqMRs9lMNBplc3MTg8FAU1MTPT09tLe388ILL3Dy5Ek6Oztxu90kEgnVk1UoFOLy5cvcvHmTtrY2XnnlFXp7e5mZmeHTTz9la2uL8vJyVVsEOHDgAPX19dy+fZvbt2/fNRUs0BWnlAuFAj6fj/n5eZxOJydOnKC3t5dEIsGlS5cYHR2lq6uLEydOYDKZOHfuHKOjo6r/aJ/PRzgcpr29XXUfWl5ejsFgYHV1lVwuR19fH83NzczPzzM8PEwqlWJ9fZ0zZ86wtrbGkSNHeO6554hEIvzmN79RPVWVIt49RVHUQcba2hr9/f2cOHGC2tpaDAYD5eXlWK1WAoGA6sfb5XJx8OBBTp06RW1tLel0mtraWvUZnzlzhqmpKXp7ezl+/DgA58+fZ3R0dEcjQInkSSOFtASKU47Ly8usr69z+fJlzpw5Q1NTE3/0R3/E0aNHcTgclJeX893vfpd//s//+T3Tjo8bpbjmm0gk1KndvXv3snfvXk6cOMEf/dEfsW/fPhYXFxkbG6OhoYEjR46oU/XpdJqJiQmy2Swul4vy8nJqa2s5cOAAR48e5ejRo+j1esLhMFarlZ6eHjo7O/H5fGxvbxMKhQgEAhw4cIDOzk7W1taYmpqiubmZ559/nr1793Lo0CEKhQITExPE43F1/VoIPovFok4zUxTcFosFs9mMrui8wW6343a7KS8vp7GxkebmZiorK3E6nao2KMo5NTWFyWTi8OHD9PX1sW/fPmpra5mZmWFtbU01kqqpqaGnp4f9+/dz6NAhbDYb29vbu8565PN55ufn+eCDDxgbG+PYsWO8+eabeDwewuEww8PDqma5urrK9vY2Xq+X1dVVdDodFRUVVFZW0tLSwtGjR/nxj3/MW2+9RU1NDW63m/r6erq6utS2r66uJhQKkclk2NjYYGxsTPUNvba2RjgcZn19XfULvRuKxqGKmI43FZ2+7NmzB4fDgcvlUqfVy8vLOXnyJK+99hpGo5GlpSUaGhr47ne/S3NzMxsbG9y8eZPl5WW2trZYWVkhGAzi8/nUwdJO7SeRPEmkkJZQKBQIBAL4fD7sdjsLCwsMDg7idrtpampSD5CwWq309vby3HPP4XK5SpN5ImSzWQKBAKlUCrfbjU6nw26309PTg8fjIRKJEA6Hsdls6pqrWC+PxWKk02lV+3E6nTidTsxmM06nE5PJhFK0Iq6qqqK7u5tQKMTIyAizs7NEo1G6urowmUxEIhHi8biattFoxO12Y7fbiUajpNPpuzpwkadS3IOeLXr9EsZKYhAiwmh/l6ZBcRAVj8exWq3qGrjNZsPtdpNOp0kkEqoQdjqdlJWVqYMAu91+j1GVlkKhQDweZ2VlheXlZXXAoSgKyWRSTTscDrO5uUllZSVvvPEGvb29ap3FATgOh4PGxkZaW1vRF91TCmFpNBqx2WzYbDYKRTeaiUSCVCqlvoPBYJC2tjZef/111VFLqWAU7aLT6WhsbOStt96it7eXwcFBfvWrX6n+tkV753I5CoUCFosFj8dDPp/n/PnzLC8vc/z4cfbv34/BYCCVShGNRsnn80SjUQKBALW1tbz88st0dHSgf8TDaSSSx4EU0hKy2Sw+n49YLMapU6c4deoUOp2Ora0tteOnKCiWlpaYnp4mHo+XJvNE0BfdZBaK1ucGjY9eXdHVoV6vJ5lMUij6Qk6n0+Tzeex2uzo1ry9xxSm+U+z0HQ4H+/btw+FwcOHCBYaHh2lqaqKjowNd0YWhvrgXOl/0by2Er8PhUC2wDRq3m6LdUqkUyWQSRVHIZDI7CnRxHY2ltiiztvzxeJxMJoOuOLWey+XUE850Re1cW08RV9lhj7AQdmazmY6ODt555x0aGxu5evUqw8PD5PN51QCvvr6ekydP8uabb/LjH/+Yn/3sZxw5ckRt/9J67yTQRPkMJS5HzWYzra2tvPbaa7z11lv84R/+If/0n/5Turq61HjiI+ohPoqi0Nrayk9+8hN+8IMfYDQauXDhAhMTE3c9D5GfsL0YGxvjwIEDvPjii2QyGfx+P3q9HqfTSXNzMydOnOA73/kOP/nJT/jDP/xDDhw48LVOO5NIvipSSEvUacdsNsvevXt57rnnqK6uZnJyktnZWTY2NkilUoTDYT755BN+/vOfs7q6CiXa3pPAarWq2vzAwADj4+NMT09z+/ZtfD4fHo+HpqYmFhcXmZqaYnNzk+npaUwmE/v27cNqtZJKpUilUiQSCVWAJxIJVYujKKja2tpobW1lZGQEn8/Hvn37qKiowGQy0dDQQGNjo5qPz+djenoavV6vTq0KoZ3NZlUB53A4CIVCjI6OMjMzo07dR6NRUqkUJpMJi8XC5uamarU9NzenzgKIMrpcLpqamgiHw6rhlnAN2tXVRXNzM7lcjng8rtazUCiQyWTUNLLZrNquQoCK8tpsNp577jleeeUVAoEAH3zwATMzMzgcDurq6giFQqysrJDNZonFYmxsbBCLxVRtOJFIqAMliu9FLpcjmUyqA4tCoaDWSfyurq6muroav9+vTm9HIhF1HT+bzd4VXpRbpD87O8uFCxeIxWL09/fT1dVFJpO5q2zJZJJMJkM2m2VmZoYLFy6g1+s5cuQIqVSK3/zmN1y6dAmHw0FrayvhcJjV1VUymQzRaJSNjQ2SyeQ9gw6J5Gkgrbu/5SjF7U0jIyOk02lefvllPB4Pfr//rq0pbrebZDLJ5cuXWVpa4vjx43g8nrs07ceJVgs0GAxEo1FWVlbY2tpifX2dUChETU0NjY2N6HQ6fD4fm5ub+Hw+vF4vXV1dvPTSSzgcDmZmZrh9+zYAe/bswWazMTw8zNTUFDU1Neo1o9FIKpViZWWF/fv388orr2C329FrtPnNzU2CwSDr6+usrKzQ2trKq6++itPpZHJykuHhYRwOBwcPHqS6uppsNsvKygqbm5tQdPcohFFPTw81NTUkk0mWlpYIhULqbEA0GuXOnTvodDr27duHx+PBYrEQCoXY3NzE7/ezuLiI2Wzm1VdfpbOzk9XVVa5fv04sFmPv3r1UVlYyMTHB8PAwLpeLPXv2UF5ermrayWSS6elp7ty5Q1lZGceOHaOmpobV1VUmJyex2Wy0tbXhcDjw+XysrKzg9XpZWVkhmUyqW8MGBweZnZ2lrq6Orq4ubMWtb+vr6wwMDBAMBuno6MDtdjMzM8OdO3ew2Wzs3buXuro6dDodXq+XpaUlNjY2WF1dJZ/PU1dXRzAY5Nq1a6TTafbt20dzc7M6O1IoWmjfunWL1dVVdbq8traW5557Dr1ez82bN1lbW6O1tZWamhqGhoa4ceMGDocDm83G5OQkt27dwmazcezYMWw2G+vr66ytral1TafT1NXV4Xa7n9j7LpHshhTSEnK5HGazme7ubrq7u3G5XFRUVFBVVUVDQwOtra2UlZWh1+spKyujq6uL3t5e9WzqJ9lp6Ypr0B6Ph8rKSnXbVUdHB01NTaphUm1tLVarlbKyMtrb2+/aU1soFCgvL6erq4vW1lYcDgeKouDxeOjs7MTj8WCz2TAYDDgcDpqbmzl06JA6AKB4IltNTQ11dXXYbDbsdjvt7e0cO3aM1tZWlOLac1VVFb29vbS2tlJeXq5u36qsrKShoYHu7m7a2trUdduqqircbjc1NTXU1NTQ1tZGS0uLut7c09NDa2srlZWVVFZWUl9fj6O4x7iuro7nnnuOvr4+zGYz6XQai8VCT08PHR0duFwuFEWhurqanp4eGhsb77IlyBWPI62pqWHv3r00NzfjdrupqKjA4/GohmzNzc00NjbiLp5/3djYSE9PD/X19er0en19PR0dHXg8HtWqPZPJYLFYaG9vp729Xc27oqKC7u5u1Uiurq4Oj8eDw+FQ7SC6u7upqalBURTsdrv6blZVVanT1zqdDqvVitvtVm0FmpqaOHLkCG1tber709jYSFdXF5WVleh0Oqqrq+no6MBZdCLT0tJCf38/ra2teDwe6uvrcbvduFwu6uvr6e7upr6+XjX4k0ieJtLBxrccRWPMRFEYGQwGtQMXWqTQXLLFIy/NZrO6BvmkEWXMZDLk83kMRYte0VlTFDjCSMxkMqll1sZVFAWz2Yy+uJ4s1pbNZrNqdCYMjYxGo2qVLcpQKJ5UlclkoGgsJdZk8/k82WyWXC6HTqfDYrGoaYqy6YunZ4k8zGazqqFnMhlyuZyaZi6XU9eexTWKAw4RVl+0FjcYDGrZxXq3aB8xnS3qqV1XFWlls1m1TbV10el06nPW1s9oNGIpHrMp3gmRh9VqVcsj3iGleMzpTu+VeIaiviKseH7iOsUlCW35RR1EmuLdEG0i2r1QKNzVrqJM4mMwGNS0dZrtd2JWQ7wfEsk3gRTSEigKoVItYbdrPGHteTe0r2pp/qWv8W73xfUHpVV6TfCgeA9zT6ANU1q+3a5pr9/v3sPUk/vcL01He630+oPQtuf90ihto9I4peFL2e25lV7fLZ9SSuNJJN8E0nBMArt0VLtd2+n67xJPsn5PMu1nlUet81d9x3aLU3pdpP+gfO53TyJ5WkhNWiJ5zNxPW5RIJJJHQWrSEsljRI55JRLJ40QKaYnkMaFoDtp4HML6caTxTSHa4n6IMNp6KjucvPa0+abzl0i0SCEtkTxGdLuctvUwlAqHr5LGN81uU/27Cd9ntY47lVUi+SaQa9ISyWMgnU6rZ4wLD1APMkzSohVipfG0159lhGYci8XY3t4GoLq6mrKyMpSipbSuuC0uFoupx87W1NRQVlb2jddPlFE8C33xONVvulySbzfyMBOJ5GsgOvFwOMylS5c4c+YMer1ePRnrURDCQKfTEYlEmJmZIRaLUVZW9shpfVPk83nW1tb4+OOPuXTpEhUVFTQ2Nt4jpP1+P5988gkXLlygrKyM+vp6kskk8/PzRCIRXC4Xes356k8DRVHY3Nxkfn4enU73VA7rkUgexNP9L5BIniBPc1JIaFtC6BgMBpLJJHfu3GF2dlY9HKaU0jIWio5DhAMOob35/X7Onj3L4OCgurZbGvdx8KhpPii8OKTE7/dz4cIFFhcXYYdpcLPZTCwW49atW8zPz5PP59na2uLixYsMDAyoB5g8KL9StOEfFFc8Q0E+n2dqaorTp0+zuLio3td+duN+9ySSr4MU0pJnngd1kIKdNJ4HxXvQ/d0QWqH4brFYqKioUE+6Ki2LqIP2uqIoRKNRbt68yY0bN9QT0wD1+NWmpib15LLHhUirtDy7oc17p/Da+3q9HpfLRWVl5V2nhZWW3263U11djdFoJJ/Po9PpcDgctLe309jYCEWh+ahoy7dTWdmhLAKdTqe6LK2qqiq9fV92y0si+bpIIf0tRwgPpXiMo+gYxW+tha5ScoTo00Yc8yiOddQiypvL5e57XdRht3rlNb6etcdNlraT8Mok4utK3F+K6+LITBE3XzwSVPxdX1/n888/59y5c4TDYdLpNLlcjsrKSl566SUOHjyIwWC4q7ziKM7d6qD9rbWeVjQW19q6lKZdapUtBFC+eCRqab7a9EW59BrXoOK+rnjkpjjeVQx0hKGdy+Xi+PHjHD58GLPZrOYp6lQoHgFaWgfxXTwX8dxEWUrDiXRFWFFnvV6vOkxpbW29J11xLKookzbtbDZ7T9tIJI8DaTj2LadQKJBIJFhdXWVubg6TyURfXx/JZJLZ2VkKhQJ79+6lra2NcDjM4OAg2WyWF1544S5nDU+SbNHf9fT0NIFAAIDa2loOHDhAeXk529vbzMzMsL6+jl6vp7Kykq6uLurq6kgmk0xOTrK0tERrays2m42FhQXy+Tx9fX10dHQQiUQYHBxkY2OD7u5u+vv7yWQyjI6O4vf72bNnD11dXYTDYWZnZ/H5fBQKBaqqqujq6qK2tpZCocAXX3zB3/zN33Dq1Cn+1b/6V2xubqoepk6ePInBYGBubo7FxUXVGcUXX3zB//1//9/o9Xr+8A//kIaGBhoaGojH46ytrdHd3U1fXx96vZ5EIsHS0hJLS0skk0nVmUhbWxuFQoGZmRnm5+dVpx2rq6vEYjF6enro6+vDaDRSKJ5HrSgKoVCIiYkJNjc3VS9bwh2lcKJiNptJJpP4/X5WV1fx+/3odDp6enro7u7GbDaTyWTY3NxkZmaG7e1tstksFy9e5NatW/z5n/85P/vZz8jlcgSDQSYnJ/H5fOTzeW7evMng4CD/8l/+S37yk5+wsLDA7Owsra2tHDx4kEgkwtDQEMFgkPb2dhRFYXFxEavVSn9/v+oAJR6PMzs7y9LS0l1uMWtqajhw4ADNzc3qgCGdTuP1epmfnycYDJLP56mtrWXPnj0ADA8Pk06nOXz4MC6Xi5GRERYXF9XZjEwmg9Pp5MCBA7S2tpLJZFhYWGBhYYF0Ok1NTQ09PT3U1dVheEpn20t+t5GGY99y8vk829vbTE1NMTg4yM2bNykUCqrLxitXrhCLxejq6sLv9/Of/tN/4s6dO5w4cYLy8vLS5B47uVyO5eVlzpw5w9TUFDqdjtnZWUZGRlTPRJ9//jnXrl2jUCgQj8e5ffs2GxsbquC5efMmv/jFL9jY2MBgMDA7O8uVK1dUF4q5XI6PP/6YX//619TV1XHgwAEikQgXLlxgaGiIjo4ObDYb586dU/OJxWLcvn2b9fV1PB4PTqeTxcVFbt++TXNzM4cPH2Z1dZV//Md/ZHl5maNHj2I2mxkZGeHTTz/FYrHQ2dnJ2toat2/fplAo0Nvbi9PpVN1r/upXv8JgMNDf3082m+X27ducPXuWQCBAoVBgenqa8fFx7HY7VVVVzMzM8Otf/5rR0VFMJhNra2tcvnyZ1dVVmpubqaqqUrVXIdyuXbvGe++9p7bN0tISN27cYG5ujtraWioqKhgbG+OLL74gEAgQDoe5du0aS0tLNDY2UllZycrKCqdPn2Z0dFRdmx8bGyMQCHDq1Cn27dvH5uYmFy5cYGBgAIrvnRggHDt2jL179zI1NcX7779PJpPh4MGDxONxzp07x0cffUQkEkGn0zE+Ps7Vq1fJ5XKqtnvz5k0+//xzIpEIyWSSS5cuMTg4SEVFBT09PbjdbvR6PYVCQS3rzMwMRqORhYUFJicncbvdOBwOzp8/z9WrV2lsbMRisXDmzBnm5uZwuVxsbGzwxRdf4PV66evrw+l0Mjg4yNWrV4nH42q9w+EwjY2Nqrc1ORUu+TrI6e5vOXq9HqfTSUdHBw0NDWxubrKxsUFLSwtHjx7FYrEwPDzM9vY2NpuNpqYm2tvbsVqtpUk9VsQ0YiwW4/r161y9epW2tja+853v8PLLL9PW1kY+n2d8fJxz585hs9l45513ePXVV6murubixYvcvn0bi8VCZWUlALFYjLa2Nl566SXq6+uZnJzE6/XidDppbW1VBYzo0HO5HC0tLbS2tjI7O8v58+ex2Wy89dZbvPbaa1RWVnL+/Hlu3bqlTnNqp3CdTicmk4loNEqhUMBoNKq+luPxOFarldbWVlpaWujs7OTVV1/l+PHjdHZ2Ul9fT6FQIBqNotPpVEOszc1NTpw4wXe+8x327NnD5OQk586dI5VKUVNTg9lsJh6P09DQwIsvvkh7ezvj4+NMTk6iFA3TBMI1pBAwvb29vPHGGxw4cIC5uTmuXbtGMpkkm81isVjo7+/nlVdeoaGhgdu3bzMzM0MikeDWrVtcuXIFj8fDW2+9xYsvvkhbW5uqfSaTSYaGhrhy5QqVlZW89dZbvPzyy+zZswe73Q5Fj2JutxuTyUQsFiOfz+NwOKisrFSXAPr6+njhhRewWq2MjY3h9/sJBAJcuXKFxcVFDh06xBtvvEFPTw8Gg4G6ujrq6+vvmnYXsxvhcJhDhw7x+uuv09PTg9VqpaKigpqaGtLpNMlkEovFQldXF6+//jovvvgiFRUV2Gw2VTsXAt/n83H06FFOnDiBoihcuXKFmZkZCoWCFNCSr40U0t9ydEWDnbq6OkxFF4/d3d10dnZSXV2N1WolmUySy+WoqanhJz/5CT/96U+pqKgoTeqxIoR0IpFgamqKUChEf38/bW1tHDt2jB/84Ac0NjayuLjI9vY2PT09dHV10d7ezt69ewmFQqq25HA4KC8vp6WlhT179tDX10dvby96vZ5kMonD4WDfvn20tLSwvLyM3+9nc3OTZDLJgQMHcDqdrKysqJp3d3c3XV1dHDhwgFgsxuTk5F0dshDSJpMJm82G0WhUhbex6AJTr9erQttqtWKz2aiurqayspKysjJcLhcOh0PderW5ucni4iKVlZXs37+f1tZW9uzZQ0VFBUtLSwSDQWw2G2VlZTQ1NbFnzx61rrrilq7SlS190bWk2AK1Z88e9u3bx8GDB7HZbKysrJDL5ejt7eXNN9+kq6sLl8tFWVkZsViMcDhMPB5nZmaGYDB4l69sMd1bKC6nzM3NqWHa29vxeDzU1dVhtVrVAY4oi5gmNhqNOJ1Oqqur6ezspKenhz179tDe3k6hUCCdTqv703O5HNXV1TQ1NdHY2Eh5eTllZWXYbDa13jqdDqfTSXl5OYuLi1y4cIFEIsGxY8fo7e3FbrfjdDrV51VRUcGJEyd47rnn1Pepu7ubN998k6qqKjY2NhgdHWVxcZHJyUmGhobw+/0Eg0G2t7cplKyHSyRfBSmkJer0ttAq9+7di9FoJBgMsrm5SXl5OS6XC6vVSkdHBx0dHff49X0SKEXjp3g8TqFQUA+8cDgcNDc3U1ZWRiKRQFEUrFarqimK/a3xeFxNh6JFscViQV/cJqQvbncSWldbWxurq6sMDg4yNTWFzWaju7ubQnEavVAoYLFYoCjgHA4HBoOBdDqt5qP9aNH+LuxwdGih6KtakC/6bxbX4/E40WgUo8aXs9VqxW63k06nSaVSanrCN7JB41sZjQGYVrsTAtJms6nGWqKdstksFMvu9/u5ffs2V69eZWJiglgsRq5okBePx8nn86pWLAYgIv18Pq8O9ET7K5ojVLVtIcKL3+L5WK1W9EVjNOH3WjzrlpYWstmsaiW/srKiatGlNDQ08O6773Lo0CEmJib45S9/ycDAAMniFjiRfz6fVy32t7e3OXv2LNFolBMnTtDW1oZOp1MNz8RAzGg0cuTIEX7wgx/Q1dUFJbsAJJKvghTS33JEJxKJRNjY2MDtdlNdXa1qsOFwmL1791JRUUE0GuXOnTsMDg6SSqVKk3rs6HQ6DAYDdrtdNTwSHV4mk0FRFCwWC8lkUr1XKK4Xm81mdRuNrqjZ6vV6DAYDOp0Ok8mkarQA5eXl9Pf3A3D69GlWVlbo6+vD4/FgMBhUA6pgMIhStOYNh8MYjUZqa2sxGAzqR1+0VhZlTafTJBIJcrmcum6qDaPT6e6yRtZaJQOqkBJTwaLtU6kUkUgEh8OB0+lU6yfSFgJNW65SdEWLa22eQqA6nU7i8Tjnz5/n888/J5lM4nK51AGOyMNoNJLJZIjFYlB8NqKO2lmDbDZLLBZDKVpMJxIJ8vn8Xc9B+6wo1l3cFx9teLvdTnt7O/X19fj9flZWVlRB3NXVhaJZEy4U96RXV1fz4x//mJ/85Ce4XC6uXLnCxMTEPe2n0+kIhUJcuXKFlZUVTp06xf79+/H5fKytrWEsztI0NDRw4sQJ3n77bX7v936PN954g6amJjVfieTrcO9/reRbR6FQIBgMsra2RjQaZWlpicHBQUZGRujo6ODkyZPqARX/8A//wN/93d8RDodLk3msiE7SbrfT1dWFyWTizJkzXL16lWvXrnHt2jV1jbm8vFwdPExMTDA+Pk5DQwP9/f3kcjnC4TCBQIBgMEgikSCTyRAKhQgGg0QiEQqFAjabjZ6eHjweD8PDwwDs3bsXq9WK1Wqlvb2d6upqRkZGuHnzJpOTk4yPj1NTU8P+/fvJ5/OEw2HC4TDRaJRMJoPFYsHtdrO1tcXly5cZGhpibGwMr9fL9vY2iUQCi8WC3W5nZWWF8+fPMzQ0xOzsLNvb22q5U6kUtbW1dHR04PV6GRgYYGZmhtHRUXK5HAcOHKCiokINHwqFSCQS6lRwKBQiFAqpGr8WpbikIAyoJicnuXPnDoqi0NvbSyaTUds1k8moQpPiTIXJZFJtFK5cucK1a9cYHx9ndXWVZDJJIpHAYDDQ1NSEwWDgypUrXL58mdHRUZaXl4nFYsTjcVKpFMlkku3tbYLBILFYjHQ6zfb2tmqwJrZBhUIhAoGAGndzcxOn08m+ffvYu3cvR48epa+vT515EWSzWaampvjss89YXl6mtraW2tpadZCUSqXY2tpia2uLaDRKLBZjYGCAc+fOYTKZaGpqYn5+nl/84hdcv36dmpoaOjo6WFtbY2BggMXFRaamppiamiIWi+04KJJIHhVp3f0tR1EUUqkUd+7c4fr161RWVlIoFFhbW8PtdvPaa6/dNf09NDSEoii8+OKL6rTyk0AIaaFJFwoF1tfX8fl8bG9vYzQaaW1txePxYLPZCIfD6lpyLpfj+eef59ixYyiKwszMDAsLC1RWVtLR0UGhUGBiYoKtrS2am5tpa2vDYrFgMpnIZrOk02lOnDih7lHW6/Xq2nEkElHzURSFo0eP8vzzz5PP5xkZGWFtbY2WlhZ6e3upqKhAp9OpAwSh1WazWZxOJ+3t7VRUVJDNZtna2iISiWA2m7HZbAQCAZaWlnC73fT19VFTU4PVaiUejxMIBNjc3CQYDNLV1cWrr75KeXm5KmgtFgu9vb2YTCbGx8fxer00NjbS2dlJWfEcbYpT6gsLC1y9epVsNovD4WB5eZlwOMy+fft46aWXKC8vVwc0FA28TCYTOp2OpqYm+vr6qKysJJ/P4/P5iEajGAwG8vk86XSalpYW+vr6cLvdZLNZvF6vGkZMdTc0NNDc3MzW1tZdywxGo1E17mtoaKCtrY1oNMrY2BjpdJru7m5sNhtXr17lxo0bbG5usrCwwOjoKPPz8+j1eqqrq+/ac725ucnk5CQbGxuEQiEymQzd3d0cPnyYQqHA6OgoW1tbtLW1UVNTw8jIiPruiHdpZWWFpqYmjhw5gsvlUge4m5ubhMNhrFYr9fX19wwSJJKvgtwn/S2nUCiwtbXFe++9x/Xr1/m93/s96uvryefzNDQ0qFtRlOLpWDMzMyiKwt69e9U1yCeJmFre2NhgeXlZnYatrq5Wjd3C4bAqXAwGA263m6amJlwuF6lUiqWlJVZXVykvL6e9vR2j0ajuk62vr6etrU0dCGxtbbGxsUFDQwM1NTUomkNIIpEIq6urhEIh9MX92I2NjbhcLtU4yu/3q4OB8vJyIpEI8/PzxGIxqqursdvtbG1tUSgUVCEdCoVYWloiFotRV1dHZWUloVCI1dVVrFYrPT09VFZWEo/H2djYYGtrS10L9Xg86vNaW1tjYWEBo9FIV1eXui3M5/NRUVFBZ2cnbrdbFdLpdFrdp93e3s6PfvQjCoWCuuYvlgt8Ph+Li4sUinuPjUYjW1tb2Gw2Ojs7MZlM6vMB8Hg85HI5vF4vbrebnp4ezGYzGxsbLC0tUSgUqK2thaJBXFlZGa2trcTjcebn5zGZTHR2dmK321lYWMDn81FTU0NbWxvZbJaZmRlSqRQdHR3k83l+8YtfcOnSJZxOJ1arlXQ6TTwe5+DBg/zxH/8x3d3dUHzXxbsinqHdbsfj8VBVVUUikWBxcZFgMIjH48Hj8bC2tobX61Wn2AvFfebNzc20tLSQSqVYXl5mY2MDXdHYrK6ujqqqKtV+QSL5Okgh/S2nUCiwsLDA3/zN35DP5/mzP/sz6urqKBQKquYnUIpriRTXCp/mdF5p3kJD0RXPzi5oDI6MRqNa7kJxK5VSNCoT13PFk6YMxfVaobmLtAzFAz+Ukn2u2vRE+4g4heKarq5kXVWUS1wTZRUdvza+KIs2Pe0arGiHfD6PXrM+q2hOHNO2Qb54MpaYldA+s1QqxRdffMHPf/5zTpw4wX/z3/w3ahuZTCYUjfGWSFekof0t2ke0qbFoHZ0rHo8q4oiyi7bQFdfDKT5T0Vbit16vV9PUPrus5sS527dv88tf/pKamhpeffVVdQBx+vRp4vE4f/qnf8rhw4fV5yLaWlt+Y3GrmLbNRX4if6X4Lohyi2cpnlW2aGRX+j8jkXxdnl4vK3kmKRS1i/n5eXX90FBiFSzQFQ2uTEXr2qeJyFsIAK3gFILAVNxCpi23vmg8ZTabVYGmL1p3WywWNb3StHZC3BNxS/MxGo1qGYXw0hW3XYnOW5uGaENt+UXHr62Ptq1FO1it1nvSMBYtv61Wq1ovkY5W0AuSySQbGxt3bTnbyRpc24aiDqJO2vxNJpMaX7SxNl8RRrSFaAeRrshH2w47PTuLxYKlaOGeTqdVI8Jc0do8m83idrvZs2ePOhuiRfusDMVB1k7XKW4DE2W0WCzqd+17I8pkKi4DSCSPk6fb00qeOXTFvaO9vb20traqmsNvAw/bIeo0VtQ7Xd+NB90X2tWzzG7lV4rLCDabjX379lFTU6NuWXuc7JT/g9pVy/3a12Aw0NHRwRtvvEFlZSXT09PqKWa9vb28/vrrqmHYk0CbrtDUxXeJ5HEhp7u/5SjFLTfr6+vodDrq6uqw2+33aF3fVkr/PUo75t3uPWtohYj4LayZI5EIVquVurq6e4wBS+M9abRtWir0Ssshpq0TiQShUEjdK24ymdRDS7TrwqXP66tQWobd0iwNJ5F8VaSQlqBo1tskj5enLeQeFu2/vfi+0/N/muUv7YpKhfRO7CbABbtdfxKUDjAeVDaJ5GGQQloCT7kz/l1HGBrpdplmf5YQA7SnXU6laKil28HFZym7CTtxXSkZYO4W/mnwTeYt+d1ECmmJ5DGh/VfSDnpkh30v39TgQCL5bUMKaYnkMaEU/Q17vV62traorKykqanpoa1+heAq1SyfBe1MO+h4GJT7aMr5onvU1dVV9Ho9bW1tuFyue9K/X9dUGlaLiKdtz/uFl0ieZe4/zySRSB4KIRAymQyTk5P85//8n/n000/V86zvJ3C0lAqTSCTCrVu3GBwcJJlM3nXvaaAVtg9C2wYzMzNcvnwZr9er3hMUCgV8Ph8ffvgh//E//kfm5ubuSf9B7XW/+/l8nqWlJa5evcrq6mrpbYnktwrD//w//8/yWFDJXYjOtrQjLP39TXG/cmjLXhqu9N6DwpRe2y2cuKcUtU2fz8f58+fJZrMcP34ch8Nxz7Y2bVyxhh2Px0kkEup+YEVR2Nra4sKFC6ytrdHT04PNZrsnnZ0oLZ+2nLtRGlaULZ/PE4vFyGazmIqHnNzvk0qluHXrFteuXbvHG5UIk0wmuXr1Krdu3eLgwYOq1yg0XsIeRGm+SrF+6XSakZERrl+/TkVFBU1NTeq90rA78aD7EsnTRGrSknsQ64Sl2s2zgHKfadedOtadOtzSupXefxA7hRfTukajEZfLhc1mU/MonfIVddAVLYCVopOL27dv89lnn7G5uamGdblcHD16lEOHDu14zOTXqYeW3eLq9Xr8fj9nzpzhzp076nVtvtr3RafTqWeHnzp1Co/Hc8/z0uv16hYpRXOamfho09rp+XGf50rx1K/29nZOnjxJQ0ODmpYIo/19P0rTl0i+CQz/0//0P0lN+luM1hJZKWpBkUhE1ZzEel42m1VdCz5sJ/ckKBQKpNNpIpGIWh6BKGc0GiUSiZDL5dT14FzRNWKq6OYxm80Sj8dJp9PoiidzFQoFEomE6itZaLOJRIJkMkm+eJSniC+8MCmadU9FUfD5fNy4cQO73c4LL7yA2WxWyyNO7BLuKwvFo0C9Xi8ff/wxg4ODtLa24nK51PzKysqoq6tTfSpTnNLV1lOkWygUyGQyRKNR9VklEgn1oBJxklYpSvHErlgspj570Z537tzhgw8+IJfL0dbWph54k0qlyBWPahUer8S7ZLPZqK2txeVyqW2WK/qejkajhMNhBgcHWV5e5sUXX1TdSop3MBaLkclk0BUHODsJTLFHWvsuiPfSaDRSUVGhOjkR4cQzSxS9oYlnrygK6XSaaDSqPlPtqWISyTeFnO6WQLHD83q93Lx5k4GBAYaGhpiZmcFgMFBTU8Pi4iLvv/8+sViMpqamb6QDy+VybGxscPPmTW7evMmdO3dYXl7GarVSVVVFOBzm1q1bXL9+nbGxMdXhg9vtJp1Oc+vWLU6fPk0kEiEajXLx4kVu376NoijU1tYSj8e5evUqn332GeFwGI/HQz6fZ2BggAsXLpBKpaipqSEajTI4OMjVq1fVfPL5POXl5RiNRjY2Nrhx4wZWq5Xjx48Ti8X4/PPPmZycpLa2FqvVysLCApcuXWJ7e5uKigqmp6f51a9+pXpvEu4uNzY2OH/+PNFolIaGBkwmE5FIhOHhYb788kuGh4dZXFwkm81SXl6OTqdjfn6es2fPMjMzo079Xrp0iUgkQnV1NVarVV1nFoI9HA4zNDTE1atXuX37NmNjY6qwunbtGhcvXiRedCkpyjY0NMSdO3eIxWJMTk5y8eJFwuEw+XyeK1euMDk5SWVlpdr+8/PzfPnll9y5c4fZ2Vlu3bpFOBzmpZdeoru7m2w2q64lX79+ncnJSRKJBG63G6vVetf7ls1mWVxc5Nq1a9y6dUv1QGa328lkMnzxxRcMDg7idrvR6/VcvnyZM2fOMD09zeTkJNeuXWNqagqn00ltba1a/2vXrjE8PKz6i3a5XLsObCSSp4Gc7v6WIzq+aDSq+vo1Go0YjUbGx8eZmpoim82yurrK+++/z40bN1TtdSft5klRKLqq/M3/r717fWribvsA/t0k5ETIkSDnQDgJiI61aJWKoK2ddqa+dKYv+qL/WP+AtsNUpyP0oHhCbaoISos3JYIYIOR8IuSc+83+drY89n7meeZp3Wf6/czsiMnuZrNk9trr97vINTuLhw8fQqfToVgsYmFhAaurq0ilUpifn8cPP/yAYrGIpqYmrK2t4euvv8by8jIkSVKC5fXr1xEOh5HL5bCwsICZmRm8fv0a9Xod4XAY8/PzWF1dhSRn4KFQCIuLi0omdvv2bXz//fc4ODiAzWbDixcv8NVXX2FxcREVuakE5Bufmtx8YW1tDbdu3UIkEgEApNNpBAIBBAIBFAoF2Gw22O12WK1Wpc9xY2MjCoUCAoEAFhYWcHBwgEwmgwcPHuDGjRuIx+NwOBzY3t7GzMwMHj58iFKphEqlgufPn2NmZgZPnz5FNptFMBjE9evXsbS0pARooVAoYGlpCd999x3S6TQcDgdevXqFR48eoVQqwePxoLGxEU6nE21tbXA6nTCZTAiFQrh27ZoyZ76ysoKlpSXkcjmsrq5ibm4OW1tbSjHd7OwsXrx4AZvNpgRTkf1Wq1VsbW3h1q1bWF9fh8PhQDabxU8//YRAIICi3AtbjPyEQiHMzc1heXkZNpsNJbnv9ebmJiRJUva1sbGBTCaD3377DeFwGE6nE6VSCYFAAM+fP1duOh4/foyHDx+iVquhqakJKysrmJubQygUQl2emyd6G3RiiInLP3MRF718Po/V1VVEIhGMjo7iww8/xPT0NHw+H3RyW8azZ88qfX7xJ4U7/9dLTfXVj8+ePcPt27fh9XrxwQcf4PLly5iYmIDH48GrV69w+/ZtGAwGXLx4EdPT0xgbG8Pa2hru3buHarWKI0eOwOFwwGg0oq+vD5OTk+jr61NaWTY2NmJwcBCtra1KsCuXy6hUKujo6MDg4CBisRju3r2LarWKyclJTE1NYWhoCL///ruSbYqhZ7GYzWY4HA7U5A5a4jG9Xo9CoQBJkuD1euHz+dDR0YFTp07h1KlT8Pl88Hq9SrCu1WoIh8O4efMmYrEYJiYmcOnSJbzzzjvY29vD/Pw8EokEHA6HklV7vV5MTEzg3LlzSi9mMZQtfoelUglbW1v49ddfAQAnT57EpUuXlO/07u7uRktLCwYGBnD+/HmMjY2htbUVbrcbAGCz2XDu3DlcvnwZw8PDaGlpgcfjQalUwsHBAdLpNH7++Wc8f/4cIyMjuHjxIk6fPo3e3l7o5K5g2WwWS0tLePLkCRobGzE2Ngafz4ft7W3cv38f0WgUNVWXqmQyiZWVFUSjUfT09GBychLvvfcePB6PMj1gNBpRKpVgsVhw/PhxXLlyBWfOnIHRaITZbMb4+Dh8Ph9CoRAWFhYQjUbh9/sxPDwMnU6HQCCgnK+/6/POhcvhhZk0oVarwWg0orW1Fel0Gjdv3kQ2m8Xp06dx7NgxNDQ0wO/344svvsDU1BSMRiPwhj8X+qvU5XnK9fV1hEIhdHd3o62tDX19fbh8+TKOHj2KeDyOvb09HDlyBD09PUpQMZvNCAaDKBaLMJlMsNvt6O7uRm9vLzo7O9Hb2wuTyYSDgwM0NDSgu7sbQ0ND2N7eRjAYRCwWQyKRwMjICNrb27G7u4tIJILW1lYliIqeyr///jvy+TwkeQhZnB9J7holyXPWkjwPalB1dtKpukaJTlais5K6YCyVSmFtbQ1msxl+vx8ejwc9PT3weDwIhUJIJpPQyX2SxTny+XxKf+lsNvtfskKTyYTu7m4cOXIEv/zyC65du4ZCoYATJ07A5XIpIysNDQ2w2WxKly2j0QiXy4Xe3l4MDQ1henoa58+fV/o6i5s50Sc6m82it7cXXq8XLpcLTqcTBoMBNbkWIBgMYn19HRsbG3jw4AH+9a9/oSq331TXDkiSBI/Hg/7+fkSjUczMzODZs2fw+Xzw+/2AqnuVQZ6bHh8fx8jICF6/fo21tTWMjo5iamoKTqcT8Xhc+Ww9ffoUCwsLiMfj0Ol0KMttMf+uzzrRYcykuUCSO2FNTk7i7NmzWFtbw7fffotQKASz2Yx6vQ6z2YyOjg64XC7gb84qRDZdKBRQLpdhkPv/iguwGO6sVCpK4IOqt6/IhESQFI+L4Cn2J4Y6BwYGkM/nEQgEsLq6Cr1ej7GxMej1eqXYTC+3VpTkamYx/C6GuNXHrl7ERV8sYr6zrpo6ED+L96HeT6lUQlku6NPJBVXiOCpyn2mxvbgREOuIfR1eDAYDRkZGcPXqVYyOjmJjYwOzs7N48uQJSnIbSPE7EPsWx6OTK9oNBoNSsQ1VX2ixnbrwri5/5gyqG5dqtYqy3JWrq6sL7e3tGBoawpUrV/DJJ5+gubn5D+empaUFH3/8MT766CNUq1XcvXsX8/PziEQiynkWvweDwQCr1Yq9vT3cu3cPOp0OU1NT6OjoQF0uGKvVamhpaUF3dze6urpw4cIFfPbZZzh+/LhSWMaFy9tYmEkT9vf3sbGxAYvFgitXrmB6ehqbm5vKHGutVsP29jZmZ2extLSEUql0eBd/KREIRFejZDKpBKRsNotyuYzGxkYYDAYkEgnk83mUy2Ukk0nU63V0dnbCYrGgLl/gJVV1ujqThZxV9vf3w+12K/Pdfr8fXV1d0Ol0SrVyPB5HsVhEuVxGKpUCAHR0dMBisSjHK/YryRXKxWIRyWQSpVIJyWQS8XgclUoFddWfHYnK5opcjS6OV7BYLHA6ncr8dK1WQy6XQz6fh9vtht1uV9aFHNTEvtXHo34+m81id3cXHo8HV69exaeffopKpYKHDx8q760sV8OXy2VlCkCv6oEtLijitfRyv2idTge9Xg+LxYJKpYJkMolarYaDgwNks1nluBoaGuB0OuFyudDd3Y33338fFy5cwOTkJI4dOwa73a68RrlcRjQaRblcxuTkJD7//HMMDw9jeXlZqSUQry1+r/F4HI8ePUI0GsW5c+fQ09ODjY0NrK+vQ6fTwWazweVy4cSJE7hw4QKmpqZw5swZtLW1Kfsgehv46fuHq8nf/nTjxg3Mzs5ib29PmbMTF/RqtYqNjQ18+eWXuHXrllLEI4LeX0lc9C0WC4aGhtDV1YWFhQXcuHEDd+7cwZ07dxAKhdDR0YGhoSEEg0HMz89jaWkJjx8/hsViwfj4OHQ6HWKxGGKxGPb29pBOp1GQWzXG43EleOr1erS0tKC/vx+7u7tIp9MYHh6G2WxGQ0MDfD4fRkdHsbu7i/v372N5eRlPnz5FU1MTJiYmYLFYkEgkkEqlkMlkUCgUYDKZ0NzcjEqlgvv37+PBgwdYWVnB7u4u9vb2kEqlYDab4fV6kcvlcOvWLdy7d08pdopGo4jH48hms/B6vTh+/DgymQzu3r2L5eVlLC4uAgDGx8fhdruRy+WUYfpMJqPcSCQSCSSTSWQymT9kxblcDoFAQCmUMpvNsNlsyo2P1WqF1WrFixcvMDc3hydPniAUCiEajSrHVpD/tK1Wq2F/f195PJ1Ow2Kx4OjRozCZTMp7e/bsGXZ2dlAoFLC/vw+r1apMTywsLODOnTtYXFzEo0ePsL6+joLchhLyDUMwGMTs7CwWFxdRq9XQ2NiIxsZGNDQ0KDdD0WgUkUgE8XgcgUAAN2/eRK1Wg91ux8rKCr755hs8evQIbrcbAwMD2NzcxI8//ojHjx/jwYMHCAQCiMfjys0B0dvAv5P+h6vL33S1tbWFnZ0dpNNp7O/vo6urC2fOnEFLSwvq8jdfvXz5EoODgzhx4gQM8nyjOiv7q4hsq6mpCU1NTchkMojFYsjlcrBYLOjs7ERrayscDgcODg4Qj8eRSCRQr9dx/PhxjI+Pw2g04tWrV9jZ2YHT6URfXx/q9TrW19eRy+XQ29uL3t5epaBLkv9GeGRkBKdOnYLJZIKkKgIrl8tKcAeAEydOYHx8HHq9HsFgENvb2/B6vRgdHUVLSwuMRiPK5TLS6TSMRiPsdjuMRiOsVit6enrQ1tYGg8GAfD6PbDarBPZyuYzt7W1lGL6zsxMulwv1eh2pVErJKIeGhjAxMQGn04m9vT1sbGxAr9djYGAATqcToVAIoVAIHo8Hg4ODcDqdgDySUC6XEYvFsLOzowRxh8OBd999F36/X/mWsXw+j2KxCIfDAYvFotzEtLe3o6urC1arFXW5qCsYDKJUKsHv96O/v18Zrk4kEijLw9oGgwF6vR5+vx9+vx9OpxN6vR6JREL5/ep0OrS1taG5ufkPw+O5XA47OzuIRqNIJBKoVqsYHh7GyZMnIUkSgsEgstksurq64Ha78fLlS2xvbyvn7vXr10gmk/D5fBgbG4PL5UI+n0ckEkE6nUaxWITdbkdHRwcaGxuVzyHR300qlUq8RfwHq8tzciLzEUOFLpcLzc3NMJlMqNVqSKVS2N3dhcvlQmtr61sZAhRDu5FIBPv7+zAajcoQqSj+isViSKfTqNfraGpqgtPphN1uR61WQzQaRTgchsViQXt7O/R6PcLhMLLZLNxuN9ra2mA0GlGv15HJZBCJRJRKYfF+63IRWywWQyqVQq1Wg81mU6qKS6WSkrEbjUZ0dHTA6XQq2ySTSVitVthsNiXoNTc3w+12o1AoIBKJIJvNKsOvpVIJkUgEOp1OqZoul8tKtl6pVGC1WuF0OpWK7mQyiXA4jGq1ira2NjQ1NSGZTCISicBkMqG1tVUJ0uJmRAy/FwoFZX7Z5XIpAUo8X6/X4Xa7YTQaEY/Hkcvl4HA40NLSAov8laVi+Dyfz8Pj8SjfOhaNRhGLxZShbfG6TqcTra2tMBgMSKfTiEajygiE3W6Hy+WCRfUNbuJzEIvFkMlkUJdrJpqbm5VzFg6HkclkYLfb0dTUhHQ6jUQioczTV6tVZdTE6/WiUqkgGo0iKRfeiWkFMb3BAE1vC4P0P9ybhvHqh1oI1g/NN74t4jigymrqclGUOL66qiGEJFdZi2H7mlzEpJPnScX2YrvD+xPriv+L5w8fjzgW9XqC+jjF64j11McpnlPv7/B2UBWT/SdiP+K1xGOHz9nhbdT/Hn7N2qEe2eI5sa76Z/HexOuI59WPQXWcYp3Dx3D48TftX+xbUn0z2eFtaqpqdvXrQzWdItZXnyOxL/X7I/q7MUjT/yvqi+nhn9/02OGLsrhgqx9TX9Bx6EKt/r/6MUH9Ov/pgq7eTqyjDtKH11O/F+HP9v0mh7fF/3J79bkQ71E4fN7/7H2o/692eJs/86Z1/qfnXE19bv/smN/0PNHbIBWLxTd/komIiOit+u/HzoiIiOitkAqFAjNpIiIiDWImTUREpFEM0kRERBolHRwccLibiIhIg5hJExERaZSUz+eZSRMREWkQM2kiIiKNYpAmIiLSKGl/f5/D3URERBrETJqIiEijpFwux0yaiIhIg5hJExERaRSDNBERkUZJ2WyWw91EREQaxEyaiIhIo6RMJsNMmoiISIOYSRMREWkUgzQREZFGMUgTERFplJROpzknTUREpEHMpImIiDRKSqVSzKSJiIg0iJk0ERGRRjFIExERaZSUTCY53E1ERKRBzKSJiIg0SkokEsykiYiINIiZNBERkUYxSBMREWmUFI/HOdxNRESkQcykiYiINEqKxWLMpImIiDSImTQREZFGMUgTERFplBSNRjncTUREpEHMpImIiDRKikQizKSJiIg0iJk0ERGRRjFIExERaRSDNBERkUZJe3t7nJMmIiLSIGbSREREGsUgTUREpFFSOBzmcDcREZEGMZMmIiLSKGl3d5eZNBERkQYxkyYiItIoBmkiIiKNknZ2djjcTUREpEHMpImIiDRK2t7eZiZNRESkQcykiYiINIpBmoiISKOkUCjE4W4iIiINYiZNRESkUdLr16+ZSRMREWkQM2kiIiKNYpAmIiLSKGlra4vD3URERBrETJqIiEijpFevXjGTJiIi0iBm0kRERBrFIE1ERKRRDNJEREQaJW1ubnJOmoiISIOYSRMREWnUvwGCD4IpuWx8UAAAAABJRU5ErkJggg==)"
      ],
      "metadata": {
        "id": "nQfj8oVJiant"
      }
    },
    {
      "cell_type": "code",
      "source": [
        "#CNN Convolutional Neural Network\n",
        "import torch\n",
        "import torch.nn as nn\n",
        "import torch.optim as optim\n",
        "import torch.nn.functional as F\n",
        "from torch.utils.data import DataLoader\n",
        "import torchvision.datasets as datasets\n",
        "import torchvision.transforms as transforms\n",
        "\n",
        "class NN(nn.Module):\n",
        "    def __init__(self, input_size, num_classes):\n",
        "        super(NN, self).__init__()\n",
        "        self.fc1 = nn.Linear(input_size, 50)\n",
        "        self.fc2 = nn.Linear(50, num_classes)\n",
        "\n",
        "    def forward(self,x):\n",
        "      x = F.relu(self.fc1(x))\n",
        "      x = self.fc2(x)\n",
        "      return x\n",
        "\n",
        "# 创建简单的cnn网络\n",
        "class CNN(nn.Module):\n",
        "    def __init__(self, in_channels=1, num_classes=10):\n",
        "        super(CNN, self).__init__()\n",
        "        self.conv1 = nn.Conv2d(in_channels=1,out_channels=8,kernel_size=(3,3),stride=(1,1),padding=(1,1))\n",
        "        self.pool = nn.MaxPool2d(kernel_size=(2,2),stride=(2,2))\n",
        "        self.conv2 = nn.Conv2d(in_channels=8,out_channels=16,kernel_size=(3,3),stride=(1,1),padding=(1,1))\n",
        "        self.fc1 = nn.Linear(16*7*7,num_classes)\n",
        "\n",
        "\n",
        "    def forward(self,x):\n",
        "      x = F.relu(self.conv1(x))\n",
        "      x = self.pool(x)\n",
        "      x = F.relu(self.conv2(x))\n",
        "      x = self.pool(x)\n",
        "      x = x.reshape(x.shape[0],-1)\n",
        "      x = self.fc1(x)\n",
        "      return x\n",
        "\n",
        "# model = CNN()\n",
        "# x = torch.randn(64,1,28,28)\n",
        "# print(model(x).shape)\n",
        "# set device\n",
        "device = torch.device('cuda' if torch.cuda.is_available() else 'cpu')\n",
        "# print(device)\n",
        "#超参数设置\n",
        "in_channel = 1\n",
        "num_classes = 10\n",
        "learnng_rate = 0.001\n",
        "\n",
        "batch_size = 64\n",
        "num_epochs = 5\n",
        "\n",
        "# 加载数据集\n",
        "train_dataset = datasets.MNIST(root=\"dataset/\",train=True,transform=transforms.ToTensor(),download=True)\n",
        "train_loader = DataLoader(dataset=train_dataset,batch_size=batch_size,shuffle=True)\n",
        "\n",
        "test_dataset = datasets.MNIST(root=\"dataset/\",train=False,transform=transforms.ToTensor(),download=True)\n",
        "test_loader = DataLoader(dataset=test_dataset,batch_size=batch_size,shuffle=True)\n",
        "# 初始化神经网络\n",
        "# model = NN(input_size=input_size,num_classes=num_classes).to(device)\n",
        "model = CNN().to(device)\n",
        "#损失函数和优化器\n",
        "criteron = nn.CrossEntropyLoss()\n",
        "optimizer = optim.Adam(model.parameters(),lr=learnng_rate)\n",
        "\n",
        "#训练模型\n",
        "for epoch in range(num_epochs):\n",
        "  for batch_idx,(data,targets) in enumerate(train_loader):\n",
        "    # 把数据发送到cuda(如果可用)\n",
        "    data=data.to(device=device)\n",
        "    targets=targets.to(device=device)\n",
        "    # forward\n",
        "    scores = model(data)\n",
        "    # loss\n",
        "    loss = criteron(scores,targets)\n",
        "    # 反向传播\n",
        "    optimizer.zero_grad() # 清空优化器的梯度缓存\n",
        "    loss.backward()\n",
        "\n",
        "    #梯度下降炒操作\n",
        "    optimizer.step()\n",
        "\n",
        "#模型验证,检验准确率\n",
        "def check_accuracy(loader,model):\n",
        "  if loader.dataset.train:\n",
        "    print(\"Checking accuracy on Train data\")\n",
        "  else:\n",
        "    print(\"Checking accuracy on Test data\")\n",
        "  num_correct = 0\n",
        "  num_samples = 0\n",
        "  model.eval()\n",
        "\n",
        "  with torch.no_grad():\n",
        "    for x,y in loader:\n",
        "      x = x.to(device=device)\n",
        "      y = y.to(device=device)\n",
        "\n",
        "      scores = model(x)\n",
        "      _,predictions = scores.max(1)\n",
        "      num_correct += (predictions==y).sum()\n",
        "      num_samples += predictions.size(0)\n",
        "    print(f\"got {num_correct}/{num_samples} with accuracy:{float(num_correct)/float(num_samples)*100:.2f}\")\n",
        "\n",
        "  model.train()\n",
        "  return num_correct / num_samples\n",
        "\n",
        "check_accuracy(train_loader,model)\n",
        "check_accuracy(test_loader,model)\n",
        "\n",
        "\n",
        "\n"
      ],
      "metadata": {
        "colab": {
          "base_uri": "https://localhost:8080/"
        },
        "id": "ZBAtKBntePVM",
        "outputId": "0b885144-47e5-45c0-bcf6-815bd5003b49"
      },
      "execution_count": 1,
      "outputs": [
        {
          "output_type": "stream",
          "name": "stderr",
          "text": [
            "100%|██████████| 9.91M/9.91M [00:00<00:00, 15.8MB/s]\n",
            "100%|██████████| 28.9k/28.9k [00:00<00:00, 475kB/s]\n",
            "100%|██████████| 1.65M/1.65M [00:00<00:00, 4.36MB/s]\n",
            "100%|██████████| 4.54k/4.54k [00:00<00:00, 6.60MB/s]\n"
          ]
        },
        {
          "output_type": "stream",
          "name": "stdout",
          "text": [
            "Checking accuracy on Train data\n",
            "got 59194/60000 with accuracy:98.66\n",
            "Checking accuracy on Test data\n",
            "got 9844/10000 with accuracy:98.44\n"
          ]
        },
        {
          "output_type": "execute_result",
          "data": {
            "text/plain": [
              "tensor(0.9844, device='cuda:0')"
            ]
          },
          "metadata": {},
          "execution_count": 1
        }
      ]
    }
  ]
}