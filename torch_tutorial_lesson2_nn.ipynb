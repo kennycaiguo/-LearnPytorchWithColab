{
  "nbformat": 4,
  "nbformat_minor": 0,
  "metadata": {
    "colab": {
      "provenance": [],
      "gpuType": "T4",
      "authorship_tag": "ABX9TyOrKpA3DesFPBvM5N9pW/hz",
      "include_colab_link": true
    },
    "kernelspec": {
      "name": "python3",
      "display_name": "Python 3"
    },
    "language_info": {
      "name": "python"
    },
    "accelerator": "GPU"
  },
  "cells": [
    {
      "cell_type": "markdown",
      "metadata": {
        "id": "view-in-github",
        "colab_type": "text"
      },
      "source": [
        "<a href=\"https://colab.research.google.com/github/kennycaiguo/-LearnPytorchWithColab/blob/main/torch_tutorial_lesson2_nn.ipynb\" target=\"_parent\"><img src=\"https://colab.research.google.com/assets/colab-badge.svg\" alt=\"Open In Colab\"/></a>"
      ]
    },
    {
      "cell_type": "code",
      "execution_count": 5,
      "metadata": {
        "colab": {
          "base_uri": "https://localhost:8080/"
        },
        "id": "hp44oJeCDSx4",
        "outputId": "989365ae-65b5-4899-ee56-e3ae9d8c30a0"
      },
      "outputs": [
        {
          "output_type": "stream",
          "name": "stdout",
          "text": [
            "Checking accuracy on Train data\n",
            "got 55992/60000 with accuracy:93.32\n",
            "Checking accuracy on Test data\n",
            "got 9312/10000 with accuracy:93.12\n"
          ]
        },
        {
          "output_type": "execute_result",
          "data": {
            "text/plain": [
              "tensor(0.9312, device='cuda:0')"
            ]
          },
          "metadata": {},
          "execution_count": 5
        }
      ],
      "source": [
        "import torch\n",
        "import torch.nn as nn\n",
        "import torch.optim as optim\n",
        "import torch.nn.functional as F\n",
        "from torch.utils.data import DataLoader\n",
        "import torchvision.datasets as datasets\n",
        "import torchvision.transforms as transforms\n",
        "\n",
        "class NN(nn.Module):\n",
        "    def __init__(self, input_size, num_classes):\n",
        "        super(NN, self).__init__()\n",
        "        self.fc1 = nn.Linear(input_size, 50)\n",
        "        self.fc2 = nn.Linear(50, num_classes)\n",
        "\n",
        "    def forward(self,x):\n",
        "      x = F.relu(self.fc1(x))\n",
        "      x = self.fc2(x)\n",
        "      return x\n",
        "\n",
        "# set device\n",
        "device = torch.device('cuda' if torch.cuda.is_available() else 'cpu')\n",
        "# print(device)\n",
        "#超参数设置\n",
        "input_size = 784\n",
        "num_classes = 10\n",
        "learnng_rate = 0.001\n",
        "\n",
        "batch_size = 64\n",
        "num_epochs = 1\n",
        "\n",
        "# 加载数据集\n",
        "train_dataset = datasets.MNIST(root=\"dataset/\",train=True,transform=transforms.ToTensor(),download=True)\n",
        "train_loader = DataLoader(dataset=train_dataset,batch_size=batch_size,shuffle=True)\n",
        "\n",
        "test_dataset = datasets.MNIST(root=\"dataset/\",train=False,transform=transforms.ToTensor(),download=True)\n",
        "test_loader = DataLoader(dataset=test_dataset,batch_size=batch_size,shuffle=True)\n",
        "# 初始化神经网络\n",
        "model = NN(input_size=input_size,num_classes=num_classes).to(device)\n",
        "\n",
        "#损失函数和优化器\n",
        "criteron = nn.CrossEntropyLoss()\n",
        "optimizer = optim.Adam(model.parameters(),lr=learnng_rate)\n",
        "\n",
        "#训练模型\n",
        "for epoch in range(num_epochs):\n",
        "  for batch_idx,(data,targets) in enumerate(train_loader):\n",
        "    # 把数据发送到cuda(如果可用)\n",
        "    data=data.to(device=device)\n",
        "    targets=targets.to(device=device)\n",
        "    # print(data.shape)\n",
        "    # get the correct shape\n",
        "    data = data.reshape(data.shape[0],-1)\n",
        "    # forward\n",
        "    scores = model(data)\n",
        "    # loss\n",
        "    loss = criteron(scores,targets)\n",
        "    # 反向传播\n",
        "    optimizer.zero_grad() # 清空优化器的梯度缓存\n",
        "    loss.backward()\n",
        "\n",
        "    #梯度下降炒操作\n",
        "    optimizer.step()\n",
        "\n",
        "#模型验证,检验准确率\n",
        "def check_accuracy(loader,model):\n",
        "  if loader.dataset.train:\n",
        "    print(\"Checking accuracy on Train data\")\n",
        "  else:\n",
        "    print(\"Checking accuracy on Test data\")\n",
        "  num_correct = 0\n",
        "  num_samples = 0\n",
        "  model.eval()\n",
        "\n",
        "  with torch.no_grad():\n",
        "    for x,y in loader:\n",
        "      x = x.to(device=device)\n",
        "      y = y.to(device=device)\n",
        "      x = x.reshape(x.shape[0],-1)\n",
        "\n",
        "      scores = model(x)\n",
        "      _,predictions = scores.max(1)\n",
        "      num_correct += (predictions==y).sum()\n",
        "      num_samples += predictions.size(0)\n",
        "    print(f\"got {num_correct}/{num_samples} with accuracy:{float(num_correct)/float(num_samples)*100:.2f}\")\n",
        "\n",
        "  model.train()\n",
        "  return num_correct / num_samples\n",
        "\n",
        "check_accuracy(train_loader,model)\n",
        "check_accuracy(test_loader,model)\n",
        "\n",
        "\n",
        "\n"
      ]
    }
  ]
}